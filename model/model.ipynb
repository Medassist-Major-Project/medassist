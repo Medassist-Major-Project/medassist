{
 "cells": [
  {
   "cell_type": "code",
   "execution_count": null,
   "metadata": {},
   "outputs": [],
   "source": [
    "%pip install numpy\n",
    "%pip install pandas\n",
    "%pip install sklearn\n"
   ]
  },
  {
   "cell_type": "code",
   "execution_count": null,
   "metadata": {},
   "outputs": [],
   "source": [
    "import numpy as np\n",
    "import pandas as pd"
   ]
  },
  {
   "cell_type": "code",
   "execution_count": null,
   "metadata": {},
   "outputs": [],
   "source": [
    "df = pd.read_csv(\"drug-adverse-effect.csv\")\n",
    "df.head()"
   ]
  },
  {
   "cell_type": "code",
   "execution_count": null,
   "metadata": {},
   "outputs": [],
   "source": [
    "\n",
    "df.describe()"
   ]
  },
  {
   "cell_type": "code",
   "execution_count": null,
   "metadata": {},
   "outputs": [],
   "source": [
    "df.shape"
   ]
  },
  {
   "cell_type": "code",
   "execution_count": null,
   "metadata": {},
   "outputs": [],
   "source": [
    "df.isna().sum()"
   ]
  },
  {
   "cell_type": "code",
   "execution_count": null,
   "metadata": {},
   "outputs": [],
   "source": [
    "new_df = df[[\"safetyreportid\", \"patientonsetage\", \"patientsex\", \"medicinalproduct\", \"activesubstancename\", \"reactionmeddrapt\"]].copy()"
   ]
  },
  {
   "cell_type": "code",
   "execution_count": null,
   "metadata": {},
   "outputs": [],
   "source": [
    "new_df.head()"
   ]
  },
  {
   "cell_type": "code",
   "execution_count": null,
   "metadata": {},
   "outputs": [],
   "source": [
    "new_df.isna().sum()"
   ]
  },
  {
   "cell_type": "code",
   "execution_count": null,
   "metadata": {},
   "outputs": [],
   "source": [
    "reaction = dict()\n",
    "for effect in new_df['reactionmeddrapt']:\n",
    "    for r in effect.split(\", \"):\n",
    "        if reaction.get(r.lower()):\n",
    "            reaction[r.lower()]+=1\n",
    "        else:\n",
    "            reaction[r.lower()]=1"
   ]
  },
  {
   "cell_type": "code",
   "execution_count": null,
   "metadata": {},
   "outputs": [],
   "source": [
    "print(reaction)"
   ]
  },
  {
   "cell_type": "code",
   "execution_count": null,
   "metadata": {},
   "outputs": [],
   "source": [
    "reactionList = {}\n",
    "i = 1\n",
    "unw = ['device issue','incorrect dose administered','wrong technique in product usage process','prostate cancer','off label use',\n",
    "       'product dose omission issue','death','covid-19','therapy interrupted','inappropriate schedule of product administration',\n",
    "      'fall']\n",
    "for (k,v) in reaction.items():\n",
    "    if(v>=20 and k not in unw):\n",
    "        reactionList[k] = i\n",
    "        i+=1\n",
    "reactionList[\"others\"] = i"
   ]
  },
  {
   "cell_type": "code",
   "execution_count": null,
   "metadata": {},
   "outputs": [],
   "source": [
    "drug = dict()\n",
    "for med in new_df['activesubstancename']:\n",
    "    for m in str(med).split(\", \"):\n",
    "        if drug.get(m.lower()):\n",
    "            drug[m.lower()]+=1\n",
    "        else:\n",
    "            drug[m.lower()]=1"
   ]
  },
  {
   "cell_type": "code",
   "execution_count": null,
   "metadata": {},
   "outputs": [],
   "source": [
    "drugList = {}\n",
    "i = 1\n",
    "\n",
    "for (k,v) in drug.items():\n",
    "    if(v>=10):\n",
    "        drugList[k] = i \n",
    "        i+=1\n",
    "drugList[\"others\"] = i"
   ]
  },
  {
   "cell_type": "code",
   "execution_count": null,
   "metadata": {},
   "outputs": [],
   "source": [
    "print(drugList)"
   ]
  },
  {
   "cell_type": "code",
   "execution_count": null,
   "metadata": {},
   "outputs": [],
   "source": [
    "print(reactionList.keys())"
   ]
  },
  {
   "cell_type": "code",
   "execution_count": null,
   "metadata": {},
   "outputs": [],
   "source": [
    "reactiondict = {key: [0]*len(new_df) for key in reactionList.keys()}\n",
    "for i, effect in enumerate(new_df[\"reactionmeddrapt\"]):\n",
    "    reactions = effect.split(\", \")\n",
    "    found = False\n",
    "    for k in reactions:\n",
    "        if k.lower() in reactionList.keys():\n",
    "            reactiondict[k.lower()][i] = 1\n",
    "            found = True\n",
    "    if not found:\n",
    "        reactiondict[\"others\"][i] = 1"
   ]
  },
  {
   "cell_type": "code",
   "execution_count": null,
   "metadata": {},
   "outputs": [],
   "source": [
    "print(sum(reactiondict[\"others\"]))"
   ]
  },
  {
   "cell_type": "code",
   "execution_count": null,
   "metadata": {},
   "outputs": [],
   "source": [
    "drugdict = {key: [0]*len(new_df) for key in drugList.keys()}\n",
    "for i, drug in enumerate(new_df[\"medicinalproduct\"]):\n",
    "    drugs = drug.split(\", \")\n",
    "    found = False\n",
    "    for k in drugs:\n",
    "        if k.lower() in drugList.keys():\n",
    "            drugdict[k.lower()][i] = 1\n",
    "            found = True\n",
    "    if not found:\n",
    "        drugdict[\"others\"][i] = 1"
   ]
  },
  {
   "cell_type": "code",
   "execution_count": null,
   "metadata": {},
   "outputs": [],
   "source": [
    "print(sum(drugdict[\"albuterol\"]))"
   ]
  },
  {
   "cell_type": "code",
   "execution_count": null,
   "metadata": {},
   "outputs": [],
   "source": [
    "for k,v in drugdict.items():\n",
    "    new_df[k] = v"
   ]
  },
  {
   "cell_type": "code",
   "execution_count": null,
   "metadata": {},
   "outputs": [],
   "source": [
    "X = new_df.drop([\"patientonsetage\",\"patientsex\",\"safetyreportid\", \"medicinalproduct\", \"activesubstancename\", \"reactionmeddrapt\"], axis=1)"
   ]
  },
  {
   "cell_type": "code",
   "execution_count": null,
   "metadata": {},
   "outputs": [],
   "source": [
    "X.shape"
   ]
  },
  {
   "cell_type": "code",
   "execution_count": null,
   "metadata": {},
   "outputs": [],
   "source": [
    "X.head()"
   ]
  },
  {
   "cell_type": "code",
   "execution_count": null,
   "metadata": {},
   "outputs": [],
   "source": [
    "y = pd.DataFrame(reactiondict)"
   ]
  },
  {
   "cell_type": "code",
   "execution_count": null,
   "metadata": {},
   "outputs": [],
   "source": [
    "y.shape"
   ]
  },
  {
   "cell_type": "code",
   "execution_count": null,
   "metadata": {},
   "outputs": [],
   "source": [
    "y.head()"
   ]
  },
  {
   "cell_type": "code",
   "execution_count": null,
   "metadata": {},
   "outputs": [],
   "source": [
    "d = pd.concat([X, y], axis=1, join='inner')"
   ]
  },
  {
   "cell_type": "code",
   "execution_count": null,
   "metadata": {},
   "outputs": [],
   "source": [
    "d = d.drop_duplicates()"
   ]
  },
  {
   "cell_type": "code",
   "execution_count": null,
   "metadata": {},
   "outputs": [],
   "source": [
    "X = d[X.columns]\n",
    "y = d[y.columns]"
   ]
  },
  {
   "cell_type": "code",
   "execution_count": null,
   "metadata": {},
   "outputs": [],
   "source": [
    "%pip install scikit-learn"
   ]
  },
  {
   "cell_type": "code",
   "execution_count": null,
   "metadata": {},
   "outputs": [],
   "source": [
    "from sklearn.pipeline import Pipeline\n",
    "from sklearn.feature_extraction.text import CountVectorizer\n",
    "from sklearn.feature_extraction.text import TfidfTransformer\n",
    "from sklearn.multioutput import MultiOutputClassifier\n",
    "from sklearn.ensemble import RandomForestClassifier\n",
    "from sklearn.model_selection import train_test_split\n",
    "from sklearn.metrics import precision_recall_fscore_support, accuracy_score, precision_score, recall_score\n",
    "from sklearn.neighbors import KNeighborsClassifier\n",
    "from sklearn.svm import LinearSVC\n",
    "from sklearn.naive_bayes import GaussianNB\n",
    "from sklearn.linear_model import LogisticRegression\n",
    "from sklearn.model_selection import GridSearchCV"
   ]
  },
  {
   "cell_type": "code",
   "execution_count": null,
   "metadata": {},
   "outputs": [],
   "source": [
    "X_train, X_test, Y_train, Y_test = train_test_split(X, y, test_size=0.1, random_state=42)"
   ]
  },
  {
   "cell_type": "code",
   "execution_count": null,
   "metadata": {},
   "outputs": [],
   "source": [
    "Y_test = Y_test.values"
   ]
  },
  {
   "cell_type": "code",
   "execution_count": null,
   "metadata": {},
   "outputs": [],
   "source": [
    "clf = LogisticRegression(solver='lbfgs', max_iter=400)\n",
    "multi_target_lr = MultiOutputClassifier(clf)\n",
    "multi_target_lr.fit(X_train, Y_train)"
   ]
  },
  {
   "cell_type": "code",
   "execution_count": null,
   "metadata": {},
   "outputs": [],
   "source": [
    "Y_pred = multi_target_lr.predict(X_test)\n",
    "\n",
    "acc_score, rec_score = 0., 0.\n",
    "Accuracy_lr = []\n",
    "Recall_lr = []\n",
    "for i in range(Y_test.shape[0]):\n",
    "    acc_score += accuracy_score(Y_test[i],Y_pred[i])\n",
    "    Accuracy_lr.append(acc_score)\n",
    "    rec_score += recall_score(Y_test[i],Y_pred[i])\n",
    "    Recall_lr.append(rec_score)\n",
    "\n",
    "acc_score = acc_score/Y_test.shape[0]\n",
    "rec_score = rec_score/Y_test.shape[0]\n",
    "\n",
    "print('Accuracy : %.4f%%, \\t, Recall : %.4f%%' %(acc_score, rec_score))"
   ]
  },
  {
   "cell_type": "code",
   "execution_count": null,
   "metadata": {},
   "outputs": [],
   "source": [
    "import joblib"
   ]
  },
  {
   "cell_type": "code",
   "execution_count": null,
   "metadata": {},
   "outputs": [],
   "source": [
    "joblib.dump(multi_target_lr, \"model.h5\")"
   ]
  },
  {
   "cell_type": "code",
   "execution_count": null,
   "metadata": {},
   "outputs": [],
   "source": [
    "from sklearn.neighbors import KNeighborsClassifier\n",
    "\n",
    "clf = KNeighborsClassifier()\n",
    "multi_target_knn = MultiOutputClassifier(clf)\n",
    "multi_target_knn.fit(X_train.values, Y_train.values)"
   ]
  },
  {
   "cell_type": "code",
   "execution_count": null,
   "metadata": {},
   "outputs": [],
   "source": [
    "Y_pred = multi_target_knn.predict(X_test.values)\n",
    "\n",
    "acc_score, rec_score = 0., 0.\n",
    "Accuracy_lr = []\n",
    "Recall_lr = []\n",
    "for i in range(Y_test.shape[0]):\n",
    "    acc_score += accuracy_score(Y_test[i],Y_pred[i])\n",
    "    Accuracy_lr.append(acc_score)\n",
    "    rec_score += recall_score(Y_test[i],Y_pred[i])\n",
    "    Recall_lr.append(rec_score)\n",
    "\n",
    "acc_score = acc_score/Y_test.shape[0]\n",
    "rec_score = rec_score/Y_test.shape[0]\n",
    "\n",
    "print('Accuracy : %.4f%%, \\t, Recall : %.4f%%' %(acc_score, rec_score))"
   ]
  },
  {
   "cell_type": "code",
   "execution_count": 85,
   "metadata": {},
   "outputs": [],
   "source": [
    "import joblib\n",
    "joblib.dump(multi_target_knn, \"model.h5\")"
   ]
  },
  {
   "cell_type": "code",
   "execution_count": null,
   "metadata": {},
   "outputs": [],
   "source": [
    "model = joblib.load(\"model.h5\")"
   ]
  },
  {
   "cell_type": "code",
   "execution_count": null,
   "metadata": {},
   "outputs": [],
   "source": [
    "import requests\n",
    "\n",
    "def getReactions(drugName):\n",
    "    url = f'https://api.fda.gov/drug/event.json?search=patient.drug.medicinalproduct:\"{drugName}\"'\n",
    "    results = requests.get(url).json()['results']\n",
    "\n",
    "    substancename = set()\n",
    "    for res in results:\n",
    "        for drug in res[\"patient\"][\"drug\"]:\n",
    "            if drug.get(\"activesubstance\"):\n",
    "                substancename.add(drug.get(\"activesubstance\").get(\"activesubstancename\"))\n",
    "    print(substancename)            \n",
    "    # substances = {\n",
    "    #    'adalimumab':1, 'secukinumab':2, 'ranitidine':3, 'hydrochloride':4,\n",
    "    #    'hydrochloride,':5, 'sodium':6, 'acetate':7, 'sodium,':8, 'prednisone,':9,\n",
    "    #    'acid,':10, 'certolizumab':11, 'sulfate,':12, 'calcium':13, 'adalimumab,':14,\n",
    "    #    'upadacitinib':15, 'fingolimod':16, 'pegol':17, 'insulin':18, 'glargine':19,\n",
    "    #    'levonorgestrel':20, 'human':21, 'macitentan':22, 'apixaban':23, 'oxycodone':24,\n",
    "    #    'palbociclib':25, 'leuprolide':26, 'tozinameran':27, 'letrozole,':28,\n",
    "    #    'sacubitril\\valsartan':29, 'others':30\n",
    "    # }\n",
    "    substances = {}\n",
    "    j = 1\n",
    "    for i in X.columns:\n",
    "        substances[i] = j\n",
    "        j = j + 1\n",
    "    \n",
    "    xres = [0]*len(substances)\n",
    "    for sub in substancename:\n",
    "        for s in sub.split():\n",
    "            if s.lower() in substances.keys():\n",
    "                xres[substances[s.lower()]-1] = 1\n",
    "            else:\n",
    "                xres[-1] = 1\n",
    "    print(xres)\n",
    "    yres = model.predict([xres])[0]\n",
    "\n",
    "    # reactions = ['cough', 'drug ineffective', 'headache', 'decreased appetite',\n",
    "    #    'pyrexia', 'nausea', 'pain in extremity', 'alopecia', 'fatigue',\n",
    "    #    'diarrhoea', 'dizziness', 'injection site pain', 'vomiting',\n",
    "    #    'product use in unapproved indication', 'asthenia', 'rash', 'pain',\n",
    "    #    'malaise', 'arthralgia', 'hospitalisation', 'condition aggravated',\n",
    "    #    'pruritus', 'dyspnoea', 'illness', 'pneumonia', 'weight decreased',\n",
    "    #    'no adverse event', 'others']\n",
    "    \n",
    "    reactions = y.columns.to_list()\n",
    "\n",
    "    \n",
    "    res = []\n",
    "    for i in range(len(yres)):\n",
    "        if yres[i] == 1:\n",
    "            res.append(reactions[i])\n",
    "\n",
    "    return res\n",
    "\n",
    "getReactions(\"humira\")"
   ]
  },
  {
   "cell_type": "code",
   "execution_count": null,
   "metadata": {},
   "outputs": [],
   "source": [
    "Y_pred[145]"
   ]
  },
  {
   "cell_type": "code",
   "execution_count": null,
   "metadata": {},
   "outputs": [],
   "source": [
    "Y_test[145]"
   ]
  },
  {
   "cell_type": "code",
   "execution_count": null,
   "metadata": {},
   "outputs": [],
   "source": [
    "clf = RandomForestClassifier(n_estimators=300, criterion = 'gini', max_depth=60, random_state=None)\n",
    "multi_target_forest = MultiOutputClassifier(clf)\n",
    "multi_target_forest.fit(X_train, Y_train)"
   ]
  },
  {
   "cell_type": "code",
   "execution_count": null,
   "metadata": {},
   "outputs": [],
   "source": [
    "import warnings\n",
    "warnings.filterwarnings('ignore')\n",
    "\n",
    "Y_pred = multi_target_forest.predict(X_test)\n",
    "\n",
    "acc_score, prec_score, rec_score = 0., 0., 0.\n",
    "Accuracy_RF = []\n",
    "Precision_RF = []\n",
    "Recall_RF = []\n",
    "for i in range(Y_test.shape[0]):\n",
    "    acc_score  += accuracy_score(Y_test[i],Y_pred[i])\n",
    "    Accuracy_RF.append(acc_score)\n",
    "    prec_score += precision_score(Y_test[i],Y_pred[i])\n",
    "    Precision_RF.append(prec_score)\n",
    "    rec_score  += recall_score(Y_test[i],Y_pred[i])\n",
    "    Recall_RF.append(rec_score)\n",
    "\n",
    "acc_score  = acc_score/Y_test.shape[0]\n",
    "prec_score = prec_score/Y_test.shape[0]\n",
    "rec_score  = rec_score/Y_test.shape[0]\n",
    "\n",
    "print('Accuracy : %.4f%%, \\t Precision : %.4f%%, \\t, Recall : %.4f%%' %(acc_score, prec_score, rec_score))"
   ]
  }
 ],
 "metadata": {
  "kernelspec": {
   "display_name": "Python 3",
   "language": "python",
   "name": "python3"
  },
  "language_info": {
   "codemirror_mode": {
    "name": "ipython",
    "version": 3
   },
   "file_extension": ".py",
   "mimetype": "text/x-python",
   "name": "python",
   "nbconvert_exporter": "python",
   "pygments_lexer": "ipython3",
   "version": "3.9.10"
  },
  "orig_nbformat": 4
 },
 "nbformat": 4,
 "nbformat_minor": 2
}
