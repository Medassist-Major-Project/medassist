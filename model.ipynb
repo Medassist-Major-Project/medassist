{
 "cells": [
  {
   "cell_type": "code",
   "execution_count": 3,
   "metadata": {},
   "outputs": [
    {
     "name": "stdout",
     "output_type": "stream",
     "text": [
      "Defaulting to user installation because normal site-packages is not writeable\n",
      "Requirement already satisfied: numpy in c:\\users\\aditya kumar\\appdata\\roaming\\python\\python39\\site-packages (1.23.5)\n",
      "Note: you may need to restart the kernel to use updated packages.\n"
     ]
    },
    {
     "name": "stderr",
     "output_type": "stream",
     "text": [
      "WARNING: You are using pip version 21.2.4; however, version 23.1.2 is available.\n",
      "You should consider upgrading via the 'c:\\Program Files\\Python39\\python.exe -m pip install --upgrade pip' command.\n"
     ]
    },
    {
     "name": "stdout",
     "output_type": "stream",
     "text": [
      "Defaulting to user installation because normal site-packages is not writeableNote: you may need to restart the kernel to use updated packages.\n"
     ]
    },
    {
     "name": "stderr",
     "output_type": "stream",
     "text": [
      "WARNING: You are using pip version 21.2.4; however, version 23.1.2 is available.\n",
      "You should consider upgrading via the 'c:\\Program Files\\Python39\\python.exe -m pip install --upgrade pip' command.\n"
     ]
    },
    {
     "name": "stdout",
     "output_type": "stream",
     "text": [
      "\n",
      "Requirement already satisfied: pandas in c:\\users\\aditya kumar\\appdata\\roaming\\python\\python39\\site-packages (2.0.1)\n",
      "Requirement already satisfied: python-dateutil>=2.8.2 in c:\\users\\aditya kumar\\appdata\\roaming\\python\\python39\\site-packages (from pandas) (2.8.2)\n",
      "Requirement already satisfied: tzdata>=2022.1 in c:\\users\\aditya kumar\\appdata\\roaming\\python\\python39\\site-packages (from pandas) (2023.3)\n",
      "Requirement already satisfied: pytz>=2020.1 in c:\\users\\aditya kumar\\appdata\\roaming\\python\\python39\\site-packages (from pandas) (2023.3)\n",
      "Requirement already satisfied: numpy>=1.20.3 in c:\\users\\aditya kumar\\appdata\\roaming\\python\\python39\\site-packages (from pandas) (1.23.5)\n",
      "Requirement already satisfied: six>=1.5 in c:\\users\\aditya kumar\\appdata\\roaming\\python\\python39\\site-packages (from python-dateutil>=2.8.2->pandas) (1.15.0)\n",
      "Defaulting to user installation because normal site-packages is not writeable\n",
      "Requirement already satisfied: sklearn in c:\\users\\aditya kumar\\appdata\\roaming\\python\\python39\\site-packages (0.0.post1)\n",
      "Note: you may need to restart the kernel to use updated packages.\n"
     ]
    },
    {
     "name": "stderr",
     "output_type": "stream",
     "text": [
      "WARNING: You are using pip version 21.2.4; however, version 23.1.2 is available.\n",
      "You should consider upgrading via the 'c:\\Program Files\\Python39\\python.exe -m pip install --upgrade pip' command.\n"
     ]
    }
   ],
   "source": [
    "%pip install numpy\n",
    "%pip install pandas\n",
    "%pip install sklearn\n"
   ]
  },
  {
   "cell_type": "code",
   "execution_count": 4,
   "metadata": {},
   "outputs": [],
   "source": [
    "import numpy as np\n",
    "import pandas as pd"
   ]
  },
  {
   "cell_type": "code",
   "execution_count": 5,
   "metadata": {},
   "outputs": [
    {
     "data": {
      "text/html": [
       "<div>\n",
       "<style scoped>\n",
       "    .dataframe tbody tr th:only-of-type {\n",
       "        vertical-align: middle;\n",
       "    }\n",
       "\n",
       "    .dataframe tbody tr th {\n",
       "        vertical-align: top;\n",
       "    }\n",
       "\n",
       "    .dataframe thead th {\n",
       "        text-align: right;\n",
       "    }\n",
       "</style>\n",
       "<table border=\"1\" class=\"dataframe\">\n",
       "  <thead>\n",
       "    <tr style=\"text-align: right;\">\n",
       "      <th></th>\n",
       "      <th>safetyreportid</th>\n",
       "      <th>primarysourcecountry</th>\n",
       "      <th>serious</th>\n",
       "      <th>seriousnessdeath</th>\n",
       "      <th>seriousnesslifethreatening</th>\n",
       "      <th>seriousnesshospitalization</th>\n",
       "      <th>seriousnessdisabling</th>\n",
       "      <th>seriousnesscongenitalanomali</th>\n",
       "      <th>seriousnessother</th>\n",
       "      <th>patientonsetage</th>\n",
       "      <th>patientonsetageunit</th>\n",
       "      <th>patientsex</th>\n",
       "      <th>reactionmeddrapt</th>\n",
       "      <th>medicinalproduct</th>\n",
       "      <th>activesubstancename</th>\n",
       "    </tr>\n",
       "  </thead>\n",
       "  <tbody>\n",
       "    <tr>\n",
       "      <th>0</th>\n",
       "      <td>20401550</td>\n",
       "      <td>US</td>\n",
       "      <td>2</td>\n",
       "      <td>2.0</td>\n",
       "      <td>2.0</td>\n",
       "      <td>2.0</td>\n",
       "      <td>2.0</td>\n",
       "      <td>2.0</td>\n",
       "      <td>2.0</td>\n",
       "      <td>43.0</td>\n",
       "      <td>801.0</td>\n",
       "      <td>2.0</td>\n",
       "      <td>Cough, Drug specific antibody present, Drug in...</td>\n",
       "      <td>HUMIRA</td>\n",
       "      <td>ADALIMUMAB</td>\n",
       "    </tr>\n",
       "    <tr>\n",
       "      <th>1</th>\n",
       "      <td>20719436</td>\n",
       "      <td>US</td>\n",
       "      <td>2</td>\n",
       "      <td>2.0</td>\n",
       "      <td>2.0</td>\n",
       "      <td>2.0</td>\n",
       "      <td>2.0</td>\n",
       "      <td>2.0</td>\n",
       "      <td>2.0</td>\n",
       "      <td>73.0</td>\n",
       "      <td>801.0</td>\n",
       "      <td>2.0</td>\n",
       "      <td>Ear infection</td>\n",
       "      <td>COSENTYX</td>\n",
       "      <td>SECUKINUMAB</td>\n",
       "    </tr>\n",
       "    <tr>\n",
       "      <th>2</th>\n",
       "      <td>20983728</td>\n",
       "      <td>US</td>\n",
       "      <td>1</td>\n",
       "      <td>2.0</td>\n",
       "      <td>2.0</td>\n",
       "      <td>2.0</td>\n",
       "      <td>2.0</td>\n",
       "      <td>2.0</td>\n",
       "      <td>1.0</td>\n",
       "      <td>26.0</td>\n",
       "      <td>801.0</td>\n",
       "      <td>2.0</td>\n",
       "      <td>Autism spectrum disorder, Mucous stools, Gastr...</td>\n",
       "      <td>DUPIXENT</td>\n",
       "      <td>DUPILUMAB</td>\n",
       "    </tr>\n",
       "    <tr>\n",
       "      <th>3</th>\n",
       "      <td>20401631</td>\n",
       "      <td>US</td>\n",
       "      <td>2</td>\n",
       "      <td>2.0</td>\n",
       "      <td>2.0</td>\n",
       "      <td>2.0</td>\n",
       "      <td>2.0</td>\n",
       "      <td>2.0</td>\n",
       "      <td>2.0</td>\n",
       "      <td>49.0</td>\n",
       "      <td>801.0</td>\n",
       "      <td>2.0</td>\n",
       "      <td>Device issue, Injury associated with device</td>\n",
       "      <td>HUMIRA</td>\n",
       "      <td>ADALIMUMAB</td>\n",
       "    </tr>\n",
       "    <tr>\n",
       "      <th>4</th>\n",
       "      <td>20719827</td>\n",
       "      <td>US</td>\n",
       "      <td>1</td>\n",
       "      <td>2.0</td>\n",
       "      <td>2.0</td>\n",
       "      <td>2.0</td>\n",
       "      <td>2.0</td>\n",
       "      <td>2.0</td>\n",
       "      <td>1.0</td>\n",
       "      <td>69.0</td>\n",
       "      <td>801.0</td>\n",
       "      <td>1.0</td>\n",
       "      <td>Colorectal cancer</td>\n",
       "      <td>ZANTAC</td>\n",
       "      <td>RANITIDINE HYDROCHLORIDE</td>\n",
       "    </tr>\n",
       "  </tbody>\n",
       "</table>\n",
       "</div>"
      ],
      "text/plain": [
       "  safetyreportid primarysourcecountry  serious  seriousnessdeath   \n",
       "0       20401550                   US        2               2.0  \\\n",
       "1       20719436                   US        2               2.0   \n",
       "2       20983728                   US        1               2.0   \n",
       "3       20401631                   US        2               2.0   \n",
       "4       20719827                   US        1               2.0   \n",
       "\n",
       "   seriousnesslifethreatening  seriousnesshospitalization   \n",
       "0                         2.0                         2.0  \\\n",
       "1                         2.0                         2.0   \n",
       "2                         2.0                         2.0   \n",
       "3                         2.0                         2.0   \n",
       "4                         2.0                         2.0   \n",
       "\n",
       "   seriousnessdisabling  seriousnesscongenitalanomali  seriousnessother   \n",
       "0                   2.0                           2.0               2.0  \\\n",
       "1                   2.0                           2.0               2.0   \n",
       "2                   2.0                           2.0               1.0   \n",
       "3                   2.0                           2.0               2.0   \n",
       "4                   2.0                           2.0               1.0   \n",
       "\n",
       "   patientonsetage  patientonsetageunit  patientsex   \n",
       "0             43.0                801.0         2.0  \\\n",
       "1             73.0                801.0         2.0   \n",
       "2             26.0                801.0         2.0   \n",
       "3             49.0                801.0         2.0   \n",
       "4             69.0                801.0         1.0   \n",
       "\n",
       "                                    reactionmeddrapt medicinalproduct   \n",
       "0  Cough, Drug specific antibody present, Drug in...           HUMIRA  \\\n",
       "1                                      Ear infection         COSENTYX   \n",
       "2  Autism spectrum disorder, Mucous stools, Gastr...         DUPIXENT   \n",
       "3        Device issue, Injury associated with device           HUMIRA   \n",
       "4                                  Colorectal cancer           ZANTAC   \n",
       "\n",
       "        activesubstancename  \n",
       "0                ADALIMUMAB  \n",
       "1               SECUKINUMAB  \n",
       "2                 DUPILUMAB  \n",
       "3                ADALIMUMAB  \n",
       "4  RANITIDINE HYDROCHLORIDE  "
      ]
     },
     "execution_count": 5,
     "metadata": {},
     "output_type": "execute_result"
    }
   ],
   "source": [
    "df = pd.read_csv(\"drug-adverse-effect.csv\")\n",
    "df.head()"
   ]
  },
  {
   "cell_type": "code",
   "execution_count": 6,
   "metadata": {},
   "outputs": [
    {
     "data": {
      "text/html": [
       "<div>\n",
       "<style scoped>\n",
       "    .dataframe tbody tr th:only-of-type {\n",
       "        vertical-align: middle;\n",
       "    }\n",
       "\n",
       "    .dataframe tbody tr th {\n",
       "        vertical-align: top;\n",
       "    }\n",
       "\n",
       "    .dataframe thead th {\n",
       "        text-align: right;\n",
       "    }\n",
       "</style>\n",
       "<table border=\"1\" class=\"dataframe\">\n",
       "  <thead>\n",
       "    <tr style=\"text-align: right;\">\n",
       "      <th></th>\n",
       "      <th>serious</th>\n",
       "      <th>seriousnessdeath</th>\n",
       "      <th>seriousnesslifethreatening</th>\n",
       "      <th>seriousnesshospitalization</th>\n",
       "      <th>seriousnessdisabling</th>\n",
       "      <th>seriousnesscongenitalanomali</th>\n",
       "      <th>seriousnessother</th>\n",
       "      <th>patientonsetage</th>\n",
       "      <th>patientonsetageunit</th>\n",
       "      <th>patientsex</th>\n",
       "    </tr>\n",
       "  </thead>\n",
       "  <tbody>\n",
       "    <tr>\n",
       "      <th>count</th>\n",
       "      <td>12000.000000</td>\n",
       "      <td>11476.000000</td>\n",
       "      <td>11456.000000</td>\n",
       "      <td>11580.000000</td>\n",
       "      <td>11416.000000</td>\n",
       "      <td>11420.000000</td>\n",
       "      <td>11666.000000</td>\n",
       "      <td>6894.000000</td>\n",
       "      <td>6893.000000</td>\n",
       "      <td>10368.00000</td>\n",
       "    </tr>\n",
       "    <tr>\n",
       "      <th>mean</th>\n",
       "      <td>1.430583</td>\n",
       "      <td>1.918961</td>\n",
       "      <td>1.982804</td>\n",
       "      <td>1.840155</td>\n",
       "      <td>1.988174</td>\n",
       "      <td>1.998511</td>\n",
       "      <td>1.562661</td>\n",
       "      <td>118.922831</td>\n",
       "      <td>801.006383</td>\n",
       "      <td>1.59973</td>\n",
       "    </tr>\n",
       "    <tr>\n",
       "      <th>std</th>\n",
       "      <td>0.495179</td>\n",
       "      <td>0.272906</td>\n",
       "      <td>0.130008</td>\n",
       "      <td>0.366478</td>\n",
       "      <td>0.108105</td>\n",
       "      <td>0.038556</td>\n",
       "      <td>0.496079</td>\n",
       "      <td>1262.466732</td>\n",
       "      <td>0.230357</td>\n",
       "      <td>0.49037</td>\n",
       "    </tr>\n",
       "    <tr>\n",
       "      <th>min</th>\n",
       "      <td>1.000000</td>\n",
       "      <td>1.000000</td>\n",
       "      <td>1.000000</td>\n",
       "      <td>1.000000</td>\n",
       "      <td>1.000000</td>\n",
       "      <td>1.000000</td>\n",
       "      <td>1.000000</td>\n",
       "      <td>0.000000</td>\n",
       "      <td>800.000000</td>\n",
       "      <td>0.00000</td>\n",
       "    </tr>\n",
       "    <tr>\n",
       "      <th>25%</th>\n",
       "      <td>1.000000</td>\n",
       "      <td>2.000000</td>\n",
       "      <td>2.000000</td>\n",
       "      <td>2.000000</td>\n",
       "      <td>2.000000</td>\n",
       "      <td>2.000000</td>\n",
       "      <td>1.000000</td>\n",
       "      <td>44.000000</td>\n",
       "      <td>801.000000</td>\n",
       "      <td>1.00000</td>\n",
       "    </tr>\n",
       "    <tr>\n",
       "      <th>50%</th>\n",
       "      <td>1.000000</td>\n",
       "      <td>2.000000</td>\n",
       "      <td>2.000000</td>\n",
       "      <td>2.000000</td>\n",
       "      <td>2.000000</td>\n",
       "      <td>2.000000</td>\n",
       "      <td>2.000000</td>\n",
       "      <td>58.000000</td>\n",
       "      <td>801.000000</td>\n",
       "      <td>2.00000</td>\n",
       "    </tr>\n",
       "    <tr>\n",
       "      <th>75%</th>\n",
       "      <td>2.000000</td>\n",
       "      <td>2.000000</td>\n",
       "      <td>2.000000</td>\n",
       "      <td>2.000000</td>\n",
       "      <td>2.000000</td>\n",
       "      <td>2.000000</td>\n",
       "      <td>2.000000</td>\n",
       "      <td>69.000000</td>\n",
       "      <td>801.000000</td>\n",
       "      <td>2.00000</td>\n",
       "    </tr>\n",
       "    <tr>\n",
       "      <th>max</th>\n",
       "      <td>2.000000</td>\n",
       "      <td>2.000000</td>\n",
       "      <td>2.000000</td>\n",
       "      <td>2.000000</td>\n",
       "      <td>2.000000</td>\n",
       "      <td>2.000000</td>\n",
       "      <td>2.000000</td>\n",
       "      <td>33649.000000</td>\n",
       "      <td>804.000000</td>\n",
       "      <td>2.00000</td>\n",
       "    </tr>\n",
       "  </tbody>\n",
       "</table>\n",
       "</div>"
      ],
      "text/plain": [
       "            serious  seriousnessdeath  seriousnesslifethreatening   \n",
       "count  12000.000000      11476.000000                11456.000000  \\\n",
       "mean       1.430583          1.918961                    1.982804   \n",
       "std        0.495179          0.272906                    0.130008   \n",
       "min        1.000000          1.000000                    1.000000   \n",
       "25%        1.000000          2.000000                    2.000000   \n",
       "50%        1.000000          2.000000                    2.000000   \n",
       "75%        2.000000          2.000000                    2.000000   \n",
       "max        2.000000          2.000000                    2.000000   \n",
       "\n",
       "       seriousnesshospitalization  seriousnessdisabling   \n",
       "count                11580.000000          11416.000000  \\\n",
       "mean                     1.840155              1.988174   \n",
       "std                      0.366478              0.108105   \n",
       "min                      1.000000              1.000000   \n",
       "25%                      2.000000              2.000000   \n",
       "50%                      2.000000              2.000000   \n",
       "75%                      2.000000              2.000000   \n",
       "max                      2.000000              2.000000   \n",
       "\n",
       "       seriousnesscongenitalanomali  seriousnessother  patientonsetage   \n",
       "count                  11420.000000      11666.000000      6894.000000  \\\n",
       "mean                       1.998511          1.562661       118.922831   \n",
       "std                        0.038556          0.496079      1262.466732   \n",
       "min                        1.000000          1.000000         0.000000   \n",
       "25%                        2.000000          1.000000        44.000000   \n",
       "50%                        2.000000          2.000000        58.000000   \n",
       "75%                        2.000000          2.000000        69.000000   \n",
       "max                        2.000000          2.000000     33649.000000   \n",
       "\n",
       "       patientonsetageunit   patientsex  \n",
       "count          6893.000000  10368.00000  \n",
       "mean            801.006383      1.59973  \n",
       "std               0.230357      0.49037  \n",
       "min             800.000000      0.00000  \n",
       "25%             801.000000      1.00000  \n",
       "50%             801.000000      2.00000  \n",
       "75%             801.000000      2.00000  \n",
       "max             804.000000      2.00000  "
      ]
     },
     "execution_count": 6,
     "metadata": {},
     "output_type": "execute_result"
    }
   ],
   "source": [
    "\n",
    "df.describe()"
   ]
  },
  {
   "cell_type": "code",
   "execution_count": 7,
   "metadata": {},
   "outputs": [
    {
     "data": {
      "text/plain": [
       "(12000, 15)"
      ]
     },
     "execution_count": 7,
     "metadata": {},
     "output_type": "execute_result"
    }
   ],
   "source": [
    "df.shape"
   ]
  },
  {
   "cell_type": "code",
   "execution_count": 8,
   "metadata": {},
   "outputs": [
    {
     "data": {
      "text/plain": [
       "safetyreportid                     0\n",
       "primarysourcecountry             107\n",
       "serious                            0\n",
       "seriousnessdeath                 524\n",
       "seriousnesslifethreatening       544\n",
       "seriousnesshospitalization       420\n",
       "seriousnessdisabling             584\n",
       "seriousnesscongenitalanomali     580\n",
       "seriousnessother                 334\n",
       "patientonsetage                 5106\n",
       "patientonsetageunit             5107\n",
       "patientsex                      1632\n",
       "reactionmeddrapt                   0\n",
       "medicinalproduct                   0\n",
       "activesubstancename               41\n",
       "dtype: int64"
      ]
     },
     "execution_count": 8,
     "metadata": {},
     "output_type": "execute_result"
    }
   ],
   "source": [
    "df.isna().sum()"
   ]
  },
  {
   "cell_type": "code",
   "execution_count": 9,
   "metadata": {},
   "outputs": [],
   "source": [
    "new_df = df[[\"safetyreportid\", \"patientonsetage\", \"patientsex\", \"medicinalproduct\", \"activesubstancename\", \"reactionmeddrapt\"]].copy()"
   ]
  },
  {
   "cell_type": "code",
   "execution_count": 10,
   "metadata": {},
   "outputs": [
    {
     "data": {
      "text/html": [
       "<div>\n",
       "<style scoped>\n",
       "    .dataframe tbody tr th:only-of-type {\n",
       "        vertical-align: middle;\n",
       "    }\n",
       "\n",
       "    .dataframe tbody tr th {\n",
       "        vertical-align: top;\n",
       "    }\n",
       "\n",
       "    .dataframe thead th {\n",
       "        text-align: right;\n",
       "    }\n",
       "</style>\n",
       "<table border=\"1\" class=\"dataframe\">\n",
       "  <thead>\n",
       "    <tr style=\"text-align: right;\">\n",
       "      <th></th>\n",
       "      <th>safetyreportid</th>\n",
       "      <th>patientonsetage</th>\n",
       "      <th>patientsex</th>\n",
       "      <th>medicinalproduct</th>\n",
       "      <th>activesubstancename</th>\n",
       "      <th>reactionmeddrapt</th>\n",
       "    </tr>\n",
       "  </thead>\n",
       "  <tbody>\n",
       "    <tr>\n",
       "      <th>0</th>\n",
       "      <td>20401550</td>\n",
       "      <td>43.0</td>\n",
       "      <td>2.0</td>\n",
       "      <td>HUMIRA</td>\n",
       "      <td>ADALIMUMAB</td>\n",
       "      <td>Cough, Drug specific antibody present, Drug in...</td>\n",
       "    </tr>\n",
       "    <tr>\n",
       "      <th>1</th>\n",
       "      <td>20719436</td>\n",
       "      <td>73.0</td>\n",
       "      <td>2.0</td>\n",
       "      <td>COSENTYX</td>\n",
       "      <td>SECUKINUMAB</td>\n",
       "      <td>Ear infection</td>\n",
       "    </tr>\n",
       "    <tr>\n",
       "      <th>2</th>\n",
       "      <td>20983728</td>\n",
       "      <td>26.0</td>\n",
       "      <td>2.0</td>\n",
       "      <td>DUPIXENT</td>\n",
       "      <td>DUPILUMAB</td>\n",
       "      <td>Autism spectrum disorder, Mucous stools, Gastr...</td>\n",
       "    </tr>\n",
       "    <tr>\n",
       "      <th>3</th>\n",
       "      <td>20401631</td>\n",
       "      <td>49.0</td>\n",
       "      <td>2.0</td>\n",
       "      <td>HUMIRA</td>\n",
       "      <td>ADALIMUMAB</td>\n",
       "      <td>Device issue, Injury associated with device</td>\n",
       "    </tr>\n",
       "    <tr>\n",
       "      <th>4</th>\n",
       "      <td>20719827</td>\n",
       "      <td>69.0</td>\n",
       "      <td>1.0</td>\n",
       "      <td>ZANTAC</td>\n",
       "      <td>RANITIDINE HYDROCHLORIDE</td>\n",
       "      <td>Colorectal cancer</td>\n",
       "    </tr>\n",
       "  </tbody>\n",
       "</table>\n",
       "</div>"
      ],
      "text/plain": [
       "  safetyreportid  patientonsetage  patientsex medicinalproduct   \n",
       "0       20401550             43.0         2.0           HUMIRA  \\\n",
       "1       20719436             73.0         2.0         COSENTYX   \n",
       "2       20983728             26.0         2.0         DUPIXENT   \n",
       "3       20401631             49.0         2.0           HUMIRA   \n",
       "4       20719827             69.0         1.0           ZANTAC   \n",
       "\n",
       "        activesubstancename                                   reactionmeddrapt  \n",
       "0                ADALIMUMAB  Cough, Drug specific antibody present, Drug in...  \n",
       "1               SECUKINUMAB                                      Ear infection  \n",
       "2                 DUPILUMAB  Autism spectrum disorder, Mucous stools, Gastr...  \n",
       "3                ADALIMUMAB        Device issue, Injury associated with device  \n",
       "4  RANITIDINE HYDROCHLORIDE                                  Colorectal cancer  "
      ]
     },
     "execution_count": 10,
     "metadata": {},
     "output_type": "execute_result"
    }
   ],
   "source": [
    "new_df.head()"
   ]
  },
  {
   "cell_type": "code",
   "execution_count": 11,
   "metadata": {},
   "outputs": [
    {
     "data": {
      "text/plain": [
       "safetyreportid            0\n",
       "patientonsetage        5106\n",
       "patientsex             1632\n",
       "medicinalproduct          0\n",
       "activesubstancename      41\n",
       "reactionmeddrapt          0\n",
       "dtype: int64"
      ]
     },
     "execution_count": 11,
     "metadata": {},
     "output_type": "execute_result"
    }
   ],
   "source": [
    "new_df.isna().sum()"
   ]
  },
  {
   "cell_type": "code",
   "execution_count": 12,
   "metadata": {},
   "outputs": [],
   "source": [
    "reaction = dict()\n",
    "for effect in new_df['reactionmeddrapt']:\n",
    "    for r in effect.split(\", \"):\n",
    "        if reaction.get(r.lower()):\n",
    "            reaction[r.lower()]+=1\n",
    "        else:\n",
    "            reaction[r.lower()]=1"
   ]
  },
  {
   "cell_type": "code",
   "execution_count": 13,
   "metadata": {},
   "outputs": [
    {
     "name": "stdout",
     "output_type": "stream",
     "text": [
      "{'cough': 140, 'drug specific antibody present': 13, 'drug ineffective': 676, 'nasopharyngitis': 96, 'ear infection': 15, 'autism spectrum disorder': 4, 'mucous stools': 4, 'gastric disorder': 22, 'product use issue': 113, 'device issue': 207, 'injury associated with device': 35, 'colorectal cancer': 94, 'hypophysitis': 2, 'c-reactive protein increased': 21, 'headache': 322, 'decreased appetite': 130, 'pyrexia': 179, 'nausea': 383, 'pain in extremity': 162, 'neck pain': 26, 'hypoaesthesia': 77, 'alopecia': 120, 'onychomadesis': 2, 'fatigue': 469, 'anaemia': 70, 'diarrhoea': 364, 'dry skin': 56, 'dry mouth': 35, 'memory impairment': 74, 'dizziness': 212, 'drug hypersensitivity': 72, 'vision blurred': 65, 'intentional product misuse': 49, 'incorrect dose administered': 194, 'injection site pain': 202, 'crohn^s disease': 66, 'maternal exposure during pregnancy': 63, 'product prescribing issue': 17, 'product administration error': 29, 'product label issue': 4, 'eructation': 13, 'vomiting': 237, 'dehydration': 52, 'wrong technique in product usage process': 213, 'injection site papule': 6, 'prostate cancer': 188, 'chest pain': 82, 'product use in unapproved indication': 121, 'injection site haemorrhage': 116, 'cardiac disorder': 38, 'back pain': 107, 'insomnia': 99, 'asthenia': 149, 'type 2 diabetes mellitus': 7, 'rheumatic fever': 2, 'hypercholesterolaemia': 4, 'swelling': 62, 'systemic lupus erythematosus': 45, 'hypersensitivity': 95, 'synovitis': 13, 'hand deformity': 10, 'blood cholesterol increased': 15, 'drug intolerance': 65, 'abdominal discomfort': 96, 'hypertension': 104, 'wound': 13, 'treatment failure': 37, 'contraindicated product administered': 20, 'intentional product use issue': 76, 'off label use': 700, 'psoriatic arthropathy': 18, 'rheumatoid arthritis': 73, 'rash': 214, 'injury': 13, 'anti-cyclic citrullinated peptide antibody positive': 8, 'musculoskeletal stiffness': 53, 'joint swelling': 79, 'mobility decreased': 49, 'general physical health deterioration': 50, 'helicobacter infection': 10, 'pain': 435, 'pemphigus': 11, 'hip arthroplasty': 14, 'therapeutic product effect decreased': 48, 'liver injury': 13, 'pericarditis': 13, 'rheumatoid factor positive': 4, 'fibromyalgia': 12, 'arthropathy': 31, 'blister': 28, 'duodenal ulcer perforation': 7, 'hepatic enzyme increased': 30, 'malaise': 222, 'arthralgia': 300, 'discomfort': 53, 'knee arthroplasty': 14, 'infusion related reaction': 34, 'glossodynia': 20, 'arthritis': 43, 'finger deformity': 5, 'joint injection': 1, 'osteoarthritis': 23, 'cerebrovascular accident': 92, 'product dose omission issue': 364, 'emotional disorder': 21, 'psoriasis': 81, 'blood glucose increased': 78, 'drug dependence': 118, 'skin exfoliation': 42, 'smooth muscle cell neoplasm': 1, 'streptococcal sepsis': 2, 'epstein-barr virus infection': 2, 'pneumocystis jirovecii pneumonia': 5, 'breast cancer': 37, 'wrong technique in device usage process': 34, 'incorrect dose administered by device': 24, 'refusal of treatment by patient': 2, 'death': 496, 'inflammation': 40, 'stevens-johnson syndrome': 5, 'tender joint count': 1, 'abdominal pain upper': 107, 'constipation': 107, 'anaphylactic reaction': 23, 'hospitalisation': 135, 'disease recurrence': 25, 'covid-19': 358, 'premature baby': 12, 'low birth weight baby': 2, 'hyperkalaemia': 11, 'acute kidney injury': 60, 'dysgeusia': 21, 'oedema peripheral': 41, 'hyperphosphataemia': 1, 'pulmonary embolism': 31, 'taste disorder': 21, 'necrotising myositis': 1, 'injection site discolouration': 8, 'injection site swelling': 48, 'stress': 40, 'product administration interrupted': 11, 'extra dose administered': 31, 'ophthalmic migraine': 1, 'condition aggravated': 243, 'flatulence': 33, 'pruritus': 165, 'seizure': 75, 'myalgia': 62, 'abdominal distension': 36, 'influenza': 42, 'device expulsion': 53, 'lung operation': 1, 'embedded device': 8, 'hernia': 17, 'heart rate decreased': 32, 'hepatitis': 13, 'therapy interrupted': 142, 'neuropathy peripheral': 45, 'defaecation urgency': 3, 'presyncope': 17, 'uterine spasm': 4, 'procedural pain': 17, 'dyspnoea': 251, 'anxiety': 118, 'chest discomfort': 39, 'paraesthesia': 63, 'neoplasm progression': 39, 'ventricular tachycardia': 7, 'polymerase chain reaction positive': 2, 'suicidal ideation': 33, 'depression': 67, 'nasal polyps': 3, 'oropharyngeal pain': 49, 'weight increased': 103, 'anxiety disorder': 1, 'obsessive-compulsive disorder': 4, 'mental status changes': 14, 'inappropriate schedule of product administration': 176, 'device difficult to use': 29, 'accidental exposure to product': 32, 'osteonecrosis': 11, 'feeling abnormal': 117, 'sciatica': 6, 'metastasis': 8, 'incorrect product administration duration': 25, 'diabetes mellitus inadequate control': 10, 'renal impairment': 44, 'drug withdrawal syndrome': 50, 'emotional distress': 99, 'illness': 144, 'sjogren^s syndrome': 7, 'sleep disorder': 25, 'epilepsy': 7, 'product storage error': 75, 'product complaint': 20, 'large intestine perforation': 8, 'foot fracture': 13, 'fall': 141, 'back injury': 10, 'joint injury': 13, 'limb injury': 13, 'overdose': 84, 'myelodysplastic syndrome': 7, 'heart rate abnormal': 4, 'tremor': 65, 'urinary tract infection': 90, 'pneumonia': 123, 'hypokinesia': 6, 'dyspepsia': 36, 'palpitations': 50, 'prostate cancer stage i': 30, 'liver disorder': 22, 'ammonia increased': 3, 'hypoacusis': 32, 'visual impairment': 95, 'bladder cancer': 102, 'gait inability': 33, 'hot flush': 51, 'hyperglycaemia': 17, 'aphonia': 10, 'upper respiratory tract infection': 17, 'intestinal obstruction': 26, 'hepatic function abnormal': 14, 'renal failure': 49, 'mood altered': 8, 'medication error': 23, 'hypomagnesaemia': 3, 'lung neoplasm malignant': 33, 'hepatic cancer': 34, 'white blood cell count decreased': 77, 'aspiration': 5, 'hypoxia': 12, 'oxygen therapy': 2, 'chest x-ray abnormal': 1, 'migraine': 53, 'somnolence': 100, 'eczema': 21, 'intercepted product preparation error': 32, 'syringe issue': 36, 'device leakage': 75, 'axonal neuropathy': 2, 'epistaxis': 31, 'cyst': 18, 'injection site discomfort': 11, 'glucocorticoid deficiency': 1, 'confusional state': 58, 'cardiac failure': 36, 'spinal operation': 15, 'blood glucose decreased': 22, 'blood pressure decreased': 39, 'treatment noncompliance': 21, 'hunger': 2, 'rhabdomyolysis': 10, 'drug level decreased': 17, 'gait disturbance': 98, 'panic attack': 13, 'hyperhidrosis': 48, 'respiratory disorder': 15, 'facial discomfort': 1, 'asthma': 65, 'musculoskeletal chest pain': 8, 'sinusitis': 64, 'pain of skin': 7, 'acne': 35, 'acne cystic': 3, 'skin burning sensation': 23, 'fungal infection': 17, 'drug effective for unapproved indication': 16, 'hepatic cancer stage ii': 3, 'gastrooesophageal reflux disease': 25, 'product substitution issue': 26, 'renal cancer': 89, 'pulmonary tuberculosis': 3, 'tuberculous pleurisy': 2, 'withdrawal syndrome': 11, 'anal abscess': 5, 'blood triglycerides increased': 3, 'syphilis': 2, 'facial paralysis': 4, 'rhinitis': 4, 'scrotal inflammation': 1, 'seasonal allergy': 17, 'breast cancer stage iii': 47, 'loss of consciousness': 51, 'incorrect route of product administration': 19, 'drug abuse': 38, 'multiple organ dysfunction syndrome': 17, 'neoplasm malignant': 49, 'poor quality device used': 9, 'device malfunction': 81, 'stomatitis': 39, 'blood test abnormal': 8, 'completed suicide': 24, 'muscle tightness': 3, 'sensitivity to weather change': 4, 'thinking abnormal': 6, 'vasectomy': 1, 'philadelphia chromosome positive': 2, 'drug eruption': 9, 'malignant neoplasm progression': 59, 'interstitial lung disease': 14, 'intraocular lens implant': 1, 'rash papular': 10, 'rash pruritic': 26, 'breast cancer stage ii': 74, 'abortion spontaneous': 9, 'cataract': 31, 'diabetic retinopathy': 3, 'eosinophilic granulomatosis with polyangiitis': 2, 'chronic eosinophilic rhinosinusitis': 1, 'febrile neutropenia': 26, 'intervertebral disc protrusion': 24, 'expired product administered': 21, 'renal cancer stage iii': 11, 'surgery': 42, 'inguinal hernia': 5, 'gastric cancer': 29, 'bacterial infection': 12, 'prostate cancer stage iii': 31, 'cerebral infarction': 10, 'hepatocellular carcinoma': 7, 'parkinson^s disease': 7, 'angioedema': 23, 'muscular weakness': 35, 'face oedema': 8, 'eye pruritus': 23, 'rhinorrhoea': 49, 'eye swelling': 14, 'lip oedema': 4, 'lip swelling': 11, 'urticaria': 74, 'immunoglobulins decreased': 1, 'neutropenia': 56, 'diffuse large b-cell lymphoma recurrent': 1, 'disease progression': 86, 'infection': 82, 'therapeutic product effect incomplete': 60, 'gastric infection': 5, 'blood pressure increased': 78, 'bone cancer': 4, 'second primary malignancy': 6, 'arthropod bite': 6, 'prostatic specific antigen increased': 9, 'productive cough': 23, 'erythema': 76, 'movement disorder': 12, 'oncologic complication': 2, 'heart rate increased': 57, 'carcinoid tumour': 2, 'therapeutic response decreased': 17, 'loss of personal independence in daily activities': 29, 'chronic graft versus host disease in liver': 3, 'chronic graft versus host disease oral': 2, 'chronic graft versus host disease in eye': 1, 'chronic graft versus host disease in lung': 1, 'obliterative bronchiolitis': 1, 'dyspnoea exertional': 19, 'drug resistance': 12, 'accident': 9, 'rash macular': 8, 'plantar fasciitis': 2, 'sars-cov-2 test positive': 43, 'bursitis': 6, 'chronic kidney disease': 45, 'transfusion': 7, 'glaucoma': 7, 'blood potassium abnormal': 3, 'blood magnesium abnormal': 3, 'multiple fractures': 12, 'haemorrhagic disorder': 1, 'blood pressure abnormal': 15, 'muscle disorder': 3, 'thrombosis': 46, 'adverse drug reaction': 56, 'lupus-like syndrome': 7, 'hyperthermia': 2, 'orthostatic hypotension': 5, 'thrombocytopenia': 41, 'trigger finger': 7, 'muscle contracture': 1, 'tendonitis': 5, 'leukoencephalopathy': 2, 'ataxia': 7, 'amnesia': 27, 'apraxia': 1, 'progressive multifocal leukoencephalopathy': 3, 'injection site warmth': 9, 'accidental underdose': 9, 'aspergillus infection': 4, 'atrial fibrillation': 38, 'cytopenia': 8, 'haemorrhage': 59, 'renal salt-wasting syndrome': 2, 'cardiomegaly': 3, 'injection site inflammation': 4, 'injection site erythema': 66, 'injection site pruritus': 31, 'necrosis': 3, 'haematochezia': 43, 'frequent bowel movements': 29, 'electrocardiogram qt prolonged': 15, 'tachycardia': 31, 'injection site reaction': 36, 'product colour issue': 3, 'bone pain': 29, 'blood glucose abnormal': 14, 'ankle fracture': 10, 'tibia fracture': 7, 'end stage renal disease': 10, 'fibula fracture': 1, 'musculoskeletal disorder': 16, 'cardiogenic shock': 8, 'suicide attempt': 31, 'circumstance or information capable of leading to medication error': 9, 'nonspecific reaction': 5, 'hepatic neoplasm': 3, 'hip fracture': 22, 'limb asymmetry': 2, 'weight decreased': 152, 'histoplasmosis': 2, 'immune system disorder': 6, 'renal injury': 9, 'skeletal injury': 7, 'tooth loss': 16, 'bone density decreased': 21, 'breast cancer female': 75, 'product administered to patient of inappropriate age': 5, 'knee operation': 11, 'osteoporosis': 18, 'bone loss': 12, 'anhedonia': 14, 'staphylococcal infection': 14, 'endocarditis': 3, 'rectal haemorrhage': 17, 'behcet^s syndrome': 2, 'supraventricular tachycardia': 3, 'implantable defibrillator insertion': 1, 'impaired work ability': 3, 'syncope': 33, 'hypovolaemic shock': 2, 'myocardial necrosis': 1, 'hepatic cytolysis': 14, 'liver abscess': 2, 'clostridium difficile colitis': 2, 'normal newborn': 4, 'full blood count abnormal': 19, 'obstructive airways disorder': 11, 'obstructive pancreatitis': 1, 'wheezing': 23, 'pharyngitis streptococcal': 4, 'influenza like illness': 18, 'viral infection': 8, 'sprue-like enteropathy': 1, 'vitreous detachment': 3, 'accommodation disorder': 2, 'drug interaction': 39, 'haemorrhagic transformation stroke': 2, 'drug titration error': 4, 'renal infarct': 2, 'poor quality sleep': 20, 'renal cancer stage i': 10, 'may-thurner syndrome': 1, 'monoplegia': 7, 'joint range of motion decreased': 6, 'nasal ulcer': 2, 'spinal compression fracture': 3, 'mouth ulceration': 12, 'rubber sensitivity': 1, 'dysstasia': 20, 'eye disorder': 30, 'peripheral swelling': 103, 'oral herpes': 9, 'herpes virus infection': 2, 'balance disorder': 36, 'muscle spasticity': 7, 'functional gastrointestinal disorder': 2, 'colorectal cancer stage ii': 19, 'lung carcinoma cell type unspecified stage ii': 3, 'hepatic cancer stage iv': 29, 'pelvic neoplasm': 1, 'neutrophil count increased': 8, 'neutrophil count decreased': 20, 'muscle spasms': 76, 'multiple sclerosis': 35, 'peripheral vascular disorder': 2, 'colorectal cancer stage iv': 36, 'gastrointestinal carcinoma': 15, 'small intestine carcinoma stage iv': 3, 'throat cancer': 9, 'oral candidiasis': 4, 'deafness unilateral': 7, 'unevaluable event': 41, 'lower respiratory tract infection': 18, 'immunodeficiency': 13, 'mucosal disorder': 3, 'cardiac arrest': 31, 'unresponsive to stimuli': 4, 'dermatitis atopic': 8, 'lethargy': 19, 'dermatitis': 5, 'grip strength decreased': 11, 'skin reaction': 6, 'sickle cell anaemia with crisis': 40, 'tenderness': 3, 'hypotension': 79, 'tinnitus': 12, 'sinus congestion': 10, 'lymphadenopathy': 24, 'blood ketone body increased': 1, 'post procedural haemorrhage': 3, 'gastritis': 12, 'intra-abdominal fluid collection': 1, 'ovarian cyst': 6, 'depressed mood': 21, 'endarterectomy': 1, 'therapeutic response shortened': 24, 'injection site bruising': 42, 'dizziness exertional': 1, 'emphysema': 5, 'forced expiratory volume decreased': 4, 'pulmonary artery dilatation': 1, 'cardiac operation': 2, 'prostate cancer stage ii': 43, 'faeces hard': 2, 'bowel movement irregularity': 7, 'metastases to lung': 2, 'metastases to central nervous system': 6, 'palmar-plantar erythrodysaesthesia syndrome': 18, 'arteritis': 6, 'aortitis': 1, 'faeces discoloured': 13, 'gastrointestinal pain': 6, 'product adhesion issue': 20, 'application site discomfort': 2, 'heavy menstrual bleeding': 9, 'abdominal pain': 82, 'concussion': 6, 'inability to afford medication': 6, 'no adverse event': 142, 'bacterial sepsis': 1, 'fungaemia': 3, 'acinetobacter bacteraemia': 1, 'squamous cell carcinoma of skin': 5, 'agranulocytosis': 7, 'hallucination': 48, 'fracture': 11, 'aggression': 16, 'blood urine present': 9, 'blood potassium increased': 8, 'blood electrolytes decreased': 1, 'renal disorder': 17, 'dental caries': 4, 'sexual dysfunction': 4, 'myocardial infarction': 45, 'genital haemorrhage': 6, 'medical device pain': 4, 'device use issue': 30, 'off label use of device': 4, 'underdose': 31, 'pneumothorax': 8, 'hereditary angioedema': 10, 'herpes zoster': 26, 'bladder dysfunction': 1, 'cataract operation': 3, 'breast cancer stage i': 79, 'ill-defined disorder': 24, 'ophthalmic herpes zoster': 3, 'herpes zoster meningitis': 1, 'occupational exposure to product': 5, 'drug effect less than expected': 9, 'traumatic lung injury': 2, 'suffocation feeling': 2, 'posterior reversible encephalopathy syndrome': 6, 'device related infection': 6, 'post procedural infection': 9, 'serratia infection': 1, 'diabetes mellitus': 47, 'pancreatitis necrotising': 4, 'type 1 diabetes mellitus': 7, 'toxicity to various agents': 50, 'diabetic neuropathy': 1, 'nerve injury': 5, 'pancreatic injury': 1, 'scar': 9, 'sleep deficit': 3, 'somatic symptom disorder': 2, 'inappropriate antidiuretic hormone secretion': 3, 'chronic lymphocytic leukaemia stage 3': 1, 'hiatus hernia': 5, 'diplopia': 15, 'food craving': 2, 'appetite disorder': 6, 'cystitis': 7, 'sleep apnoea syndrome': 12, 'agitation': 24, 'blood creatinine increased': 30, 'product expiration date issue': 1, 'therapy cessation': 35, 'patient dissatisfaction with treatment': 3, 'impaired quality of life': 10, 'spinal pain': 8, 'colorectal cancer stage iii': 45, 'exposure during pregnancy': 24, 'breast feeding': 2, 'skin ulcer': 17, 'adrenal insufficiency': 9, 'therapeutic response unexpected': 14, 'retinal tear': 3, 'eye operation': 3, 'hypermetropia': 1, 'haematological malignancy': 3, 'oral pain': 15, 'dysphonia': 22, 'irritability': 15, 'restlessness': 10, 'temperature intolerance': 6, 'fluid retention': 23, 'impaired healing': 22, 'invasive ductal breast carcinoma': 4, 'breast cancer recurrent': 1, 'metastatic neoplasm': 3, 'contusion': 42, 'sinus headache': 3, 'respiratory tract congestion': 11, 'injection site extravasation': 11, 'blindness transient': 5, 'vitritis': 1, 'hypopyon': 1, 'eye inflammation': 3, 'non-infectious endophthalmitis': 1, 'eye pain': 26, 'multiple sclerosis relapse': 35, 'guillain-barre syndrome': 3, 'chronic inflammatory demyelinating polyradiculoneuropathy': 4, 'speech disorder': 25, 'head discomfort': 14, 'dizziness postural': 6, 'lung disorder': 23, 'vitamin d decreased': 5, 'sepsis': 32, 'tooth extraction': 7, 'cellulitis': 25, 'procedural complication': 3, 'blood phosphorus decreased': 8, 'blood calcium decreased': 3, 'graft loss': 2, 'polyomavirus-associated nephropathy': 2, 'polyomavirus viraemia': 2, 'polyomavirus test positive': 1, 'renal function test abnormal': 4, 'eyelid ptosis': 3, 'mitochondrial toxicity': 2, 'progressive external ophthalmoplegia': 1, 'lipodystrophy acquired': 7, 'product dispensing error': 21, 'cardiac failure congestive': 14, 'mitral valve prolapse': 1, 'escherichia infection': 3, 'central vision loss': 1, 'ulcerative keratitis': 3, 'leukopenia': 19, 'burning sensation': 29, 'heart transplant': 1, 'road traffic accident': 16, 'medical device change': 3, 'gastrointestinal haemorrhage': 12, 'colitis ulcerative': 59, 'hidradenitis': 18, 'diabetic ketoacidosis': 10, 'immunosuppressant drug level increased': 2, 'osteonecrosis of jaw': 5, 'gastrointestinal disorder': 36, 'device physical property issue': 11, 'therapy non-responder': 39, 'intestinal resection': 6, 'stoma creation': 1, 'lactic acidosis': 12, 'pregnancy with implant contraceptive': 5, 'abortion induced': 2, 'unintended pregnancy': 6, 'device placement issue': 3, 'implant site scar': 2, 'adverse food reaction': 3, 'necrotising scleritis': 1, 'choroiditis': 1, 'lymph node tuberculosis': 1, 'skin lesion': 19, 'rebound effect': 6, 'hyperchlorhydria': 3, 'retching': 9, 'abscess limb': 4, 'food intolerance': 2, 'nasal discomfort': 2, 'nasal dryness': 6, 'skin fissures': 9, 'urinary incontinence': 12, 'autoimmune disorder': 8, 'drug-induced liver injury': 27, 'eosinophil count increased': 1, 'latent tuberculosis': 2, 'oligoarthritis': 1, 'pancreatitis': 18, 'respiratory symptom': 4, 'synovial cyst': 3, 'listeriosis': 1, 'upper-airway cough syndrome': 3, 'diarrhoea haemorrhagic': 5, 'erythema nodosum': 4, 'genital ulceration': 1, 'pustule': 6, 'superficial vein thrombosis': 1, 'erectile dysfunction': 11, 'nasal congestion': 36, 'hyperbilirubinaemia': 7, 'hypocoagulable state': 1, 'bronchitis': 30, 'haemoglobin decreased': 45, 'mental disorder': 23, 'abscess': 10, 'adverse event': 46, 'intentional self-injury': 8, 'idiopathic interstitial pneumonia': 1, 'blindness': 19, 'product availability issue': 28, 'wrist fracture': 2, 'oesophageal carcinoma': 72, 'pelvic fracture': 4, 'lymphoma': 6, 'bone density abnormal': 4, 'reaction to excipient': 1, 'pneumonia cytomegaloviral': 2, 'hypogammaglobulinaemia': 1, 'nightmare': 8, 'strabismus': 1, 'myopia': 2, 'dry eye': 15, 'oral discomfort': 9, 'platelet count decreased': 47, 'creatinine renal clearance increased': 2, 'red blood cell count decreased': 24, 'body mass index increased': 2, 'hypertriglyceridaemia': 3, 'pancreatitis acute': 8, 'paralysis': 9, 'conjunctivitis': 4, 'abortion': 1, 'virologic failure': 4, 'carpal tunnel syndrome': 10, 'aortic disorder': 1, 'bedridden': 13, 'atrioventricular block first degree': 5, 'sars-cov-2 antibody test positive': 1, 'progressive relapsing multiple sclerosis': 1, 'secondary progressive multiple sclerosis': 1, 'mastication disorder': 1, 'pulmonary fibrosis': 8, 'faecaloma': 3, 'weight fluctuation': 10, 'infusion site hypoaesthesia': 1, 'sleep disorder due to a general medical condition': 6, 'cholelithiasis': 9, 'intervertebral disc space narrowing': 1, 'venous occlusion': 2, 'anal pruritus': 1, 'aphthous ulcer': 10, 'burns third degree': 1, 'central venous catheterisation': 5, 'infusion': 1, 'chronic obstructive pulmonary disease': 16, 'behaviour disorder': 5, 'disturbance in attention': 23, 'skin cancer': 25, 'white blood cell count increased': 26, 'nail disorder': 5, 'poor venous access': 12, 'infusion site pruritus': 2, 'wound infection': 6, 'heart rate irregular': 13, 'faecal calprotectin decreased': 1, 'body temperature increased': 12, 'nephritis': 3, 'blood alkaline phosphatase increased': 10, 'product solubility abnormal': 3, 'product residue present': 1, 'encephalitis': 2, 'psychomotor hyperactivity': 6, 'facial bones fracture': 3, 'somnambulism': 2, 'laboratory test abnormal': 23, 'cardiopulmonary failure': 2, 'cardiomyopathy': 4, 'choking': 6, 'coma': 17, 'drug level above therapeutic': 5, 'sudden hearing loss': 3, 'chills': 71, 'hip surgery': 5, 'product physical issue': 10, 'device material issue': 1, 'device adhesion issue': 26, 'joint surgery': 1, 'epstein-barr virus infection reactivation': 2, 'diabetic eye disease': 1, 'application site irritation': 4, 'femur fracture': 10, 'bone prosthesis insertion': 1, 'decreased immune responsiveness': 13, 'head injury': 17, 'oxygen saturation decreased': 33, 'overweight': 8, 'oxygen saturation abnormal': 1, 'osteopenia': 7, 'bone disorder': 9, 'instillation site haemorrhage': 1, 'instillation site pain': 3, 'instillation site discharge': 1, 'alanine aminotransferase increased': 26, 'blood pressure diastolic increased': 4, 'blood pressure fluctuation': 25, 'body temperature decreased': 6, 'cartilage injury': 2, 'gastrointestinal neuroendocrine carcinoma': 1, 'hepatic cancer metastatic': 1, 'shock': 7, 'hyperpyrexia': 3, 'muscle injury': 7, 'thermal burns of eye': 1, 'poisoning': 1, 'pancreatic carcinoma stage ii': 9, 'blindness unilateral': 11, 'retinal detachment': 9, 'dementia': 15, 'ocular hyperaemia': 20, 'eye irritation': 20, 'sneezing': 16, 'upper respiratory tract congestion': 2, 'general symptom': 1, 'general physical condition abnormal': 5, 'pneumonia aspiration': 12, 'central nervous system infection': 1, 'drug level increased': 5, 'product distribution issue': 7, 'obstruction': 3, 'suspected covid-19': 8, 'neuralgia': 18, 'increased tendency to bruise': 2, 'skin disorder': 17, 'cervical vertebral fracture': 2, 'salivary hypersecretion': 6, 'optic neuritis': 5, 'optic atrophy': 1, 'lhermitte^s sign': 1, 'intentional underdose': 2, 'pneumonia bacterial': 4, 'product taste abnormal': 6, 'coronary artery occlusion': 3, 'rhinitis allergic': 1, 'hyponatraemia': 18, 'disseminated aspergillosis': 2, 'brain abscess': 2, 'insurance issue': 12, 'abnormal behaviour': 6, 'haematocrit decreased': 11, 'pancreatic disorder': 3, 'gastrointestinal sounds abnormal': 4, 'cluster headache': 2, 'electric shock sensation': 4, 'back disorder': 7, 'cognitive disorder': 14, 'injection site thrombosis': 2, 'flushing': 35, 'hepatitis viral': 1, 'aspartate aminotransferase increased': 21, 'hepatitis a': 1, 'injection site urticaria': 10, 'miliaria': 2, 'onychoclasis': 6, 'physical disability': 1, 'abnormal dreams': 7, 'product quality issue': 32, 'hypersomnia': 9, 'product temperature excursion issue': 8, 'unintentional medical device removal': 11, 'swelling face': 29, 'mental disorder due to a general medical condition': 1, 'depressed level of consciousness': 6, 'drug dose omission by device': 50, 'gallbladder disorder': 10, 'pain in jaw': 11, 'trismus': 3, 'intentional dose omission': 18, 'therapy partial responder': 4, 'device occlusion': 20, 'night sweats': 11, 'parkinsonism': 5, 'libido decreased': 5, 'suspected transmission of an infectious agent via product': 1, 'endophthalmitis': 1, 'tubulointerstitial nephritis': 8, 'near death experience': 5, 'respiratory syncytial virus infection': 4, 'post-traumatic stress disorder': 3, 'gastrointestinal infection': 7, 'myocarditis': 7, 'facial pain': 4, 'product administered at inappropriate site': 15, 'nervous system disorder': 11, 'uterine cancer': 13, 'suspected suicide': 3, 'device information output issue': 14, 'delirium tremens': 1, 'tenosynovitis': 1, 'mycobacterium chelonae infection': 1, 'candida infection': 11, 'vasculitis': 6, 'soft tissue necrosis': 1, 'solar dermatitis': 2, 'acarodermatitis': 2, 'rales': 1, 'perfume sensitivity': 1, 'increased appetite': 6, 'respiratory fume inhalation disorder': 1, 'rhonchi': 1, 'dust allergy': 2, 'pleurisy': 1, 'lower respiratory tract congestion': 2, 'blood pressure diastolic abnormal': 3, 'iron overload': 2, 'bone marrow transplant': 3, 'loss of control of legs': 1, 'colitis': 26, 'haematoma': 7, 'intestinal stenosis': 1, 'fistula': 9, 'weight gain poor': 2, 'polycystic ovaries': 1, 'pulmonary hypertension': 5, 'leukaemia cutis': 1, 'incorrect dose administered by product': 2, 'product delivery mechanism issue': 4, 'clostridium difficile infection': 12, 'atrioventricular block complete': 3, 'device mechanical issue': 12, 'device breakage': 35, 'gastroenteritis viral': 9, 'tardive dyskinesia': 9, 'gastritis erosive': 1, 'non-alcoholic steatohepatitis': 1, 'blood pressure inadequately controlled': 3, 'arrhythmia': 18, 'abdominal pain lower': 7, 'basal cell carcinoma': 11, 'bronchopulmonary aspergillosis': 4, 'bladder neoplasm surgery': 1, 'anger': 7, 'enteritis': 6, 'mucosal inflammation': 14, 'gene mutation': 2, 'injection site injury': 5, 'device use error': 17, 'anti-neutrophil cytoplasmic antibody positive vasculitis': 1, 'megacolon': 1, 'escherichia bacteraemia': 2, 'septic shock': 16, 'ear pain': 8, 'asphyxia': 3, 'diffuse alveolar damage': 1, 'acute lymphocytic leukaemia': 2, 'poor quality product administered': 12, 'infusion site pain': 6, 'infusion site swelling': 2, 'infusion site vesicles': 1, 'nephrolithiasis': 23, 'muscle twitching': 6, 'haemodynamic instability': 5, 'catheter placement': 1, 'feeding disorder': 18, 'blood bilirubin increased': 10, 'breast cancer metastatic': 3, 'cushing^s syndrome': 3, 'moaning': 1, 'computerised tomogram abnormal': 2, 'electrocardiogram qt interval abnormal': 1, 'haemorrhoidal haemorrhage': 2, 'haemoglobin abnormal': 2, 'nicotine dependence': 1, 'secondary immunodeficiency': 1, 'sputum purulent': 1, 'left ventricular dysfunction': 4, 'hypertensive crisis': 10, 'bradycardia': 15, 'potentiating drug interaction': 1, 'diet noncompliance': 2, 'intercepted medication error': 5, 'labelled drug-food interaction medication error': 1, 'acute abdomen': 1, 'pancytopenia': 14, 'prostatitis': 1, 'pyelonephritis': 3, 'disseminated tuberculosis': 1, 'dermal cyst': 2, 'otitis media': 1, 'covid-19 pneumonia': 16, 'bone demineralisation': 4, 'papule': 3, 'urine abnormality': 3, 'ejaculation disorder': 3, 'injection site rash': 25, 'immune-mediated dermatitis': 2, 'nodule': 7, 'atrioventricular block second degree': 3, 'sinus bradycardia': 3, 'ovarian germ cell teratoma benign': 1, 'dialysis': 5, 'adjustment disorder with depressed mood': 3, 'delirium': 13, 'dislocation of vertebra': 1, 'drug tolerance decreased': 2, 'seronegative arthritis': 1, 'molluscum contagiosum': 1, 'immune reconstitution inflammatory syndrome': 4, 'paradoxical drug reaction': 1, 'normocytic anaemia': 2, 'anticholinergic syndrome': 1, 'feeling cold': 18, 'pallor': 9, 'cyanosis': 4, 'mouth haemorrhage': 3, 'intentional overdose': 17, 'pleural effusion': 25, 'intercepted product storage error': 7, 'ocular discomfort': 5, 'respiratory arrest': 4, 'injection related reaction': 2, 'accidental overdose': 12, 'oedema': 24, 'cholecystectomy': 4, 'folliculitis': 5, 'irritable bowel syndrome': 15, 'sleep disorder due to general medical condition': 5, 'insomnia type': 5, 'cerebral haemorrhage': 10, 'product packaging quantity issue': 13, 'product supply issue': 11, 'drug reaction with eosinophilia and systemic symptoms': 11, 'product prescribing error': 23, 'frustration tolerance decreased': 6, 'leukaemia': 6, 'application site pain': 8, 'tic': 1, 'tumour marker decreased': 1, 'ligament sprain': 3, 'mass': 9, 'skin warm': 2, 'retinal artery occlusion': 2, 'transient ischaemic attack': 13, 'postictal paralysis': 1, 'hemiplegia': 3, 'generalised tonic-clonic seizure': 5, 'aortic aneurysm': 2, 'abdominal mass': 1, 'cytomegalovirus infection': 7, 'mean cell haemoglobin decreased': 2, 'red cell distribution width increased': 3, 'lymphocyte count decreased': 6, 'mean cell volume decreased': 2, 'transplant failure': 1, 'staphylococcal bacteraemia': 3, 'bacterial colitis': 1, 'transplant rejection': 2, 'lymphadenopathy mediastinal': 1, 'erection increased': 2, 'myelosuppression': 20, 'exposure via breast milk': 4, 'tumour excision': 1, 'anosmia': 6, 'ageusia': 12, 'cholecystitis infective': 5, 'metabolic encephalopathy': 1, 'blood loss anaemia': 1, 'gastrointestinal inflammation': 11, 'injection site vesicles': 10, 'cardio-respiratory arrest': 8, 'cardiotoxicity': 3, 'tonic clonic movements': 1, 'sars-cov-2 antibody test negative': 1, 'nervousness': 24, 'eyelid oedema': 4, 'coeliac disease': 4, 'hypoglycaemia': 13, 'thyroid function test abnormal': 3, 'nail psoriasis': 3, 'thyroid cancer': 17, 'drug ineffective for unapproved indication': 33, 'complication associated with device': 12, 'subclavian vein thrombosis': 2, 'brachiocephalic vein thrombosis': 1, 'compartment syndrome': 2, 'pharyngeal swelling': 11, 'deep vein thrombosis': 17, 'foot operation': 3, 'pulmonary oedema': 20, 'systemic inflammatory response syndrome': 2, 'rotator cuff syndrome': 10, 'device dislocation': 26, 'therapeutic reaction time decreased': 2, 'gastrostomy': 1, 'prescribed overdose': 8, 'limb discomfort': 11, 'crying': 13, 'varicella': 1, 'uterine leiomyoma': 5, 'melanocytic naevus': 2, 'hepatic cirrhosis': 11, 'self-consciousness': 1, 'needle issue': 25, 'recalled product administered': 16, 'skin laxity': 3, 'cellulite': 2, 'metastases to spine': 1, 'libido disorder': 1, 'muscle haemorrhage': 3, 'gingival bleeding': 6, 'bladder dilatation': 1, 'upper limb fracture': 7, 'osteitis': 3, 'complication of device removal': 23, 'device deployment issue': 8, 'neoplasm': 11, 'hand fracture': 4, 'alopecia areata': 2, 'intestinal sepsis': 1, 'large intestinal haemorrhage': 3, 'differential white blood cell count abnormal': 2, 'blood disorder': 8, 'ulcer': 6, 'central venous catheter removal': 1, 'dysphagia': 39, 'stenotrophomonas infection': 1, 'meningitis bacterial': 1, 'nosocomial infection': 1, 'skin infection': 7, 'dysgraphia': 8, 'breast atrophy': 1, 'gingival disorder': 5, 'ankylosing spondylitis': 19, 'peripheral embolism': 1, 'pharyngeal haemorrhage': 1, 'psychiatric symptom': 4, 'bone swelling': 1, 'laryngitis': 3, 'hydrocephalus': 5, 'leukocytosis': 6, 'peripheral artery occlusion': 2, 'blood cholesterol decreased': 2, 'brain neoplasm': 9, 'plasma cell myeloma': 9, 'hospice care': 7, 'malignant melanoma': 10, 'nail discolouration': 3, 'right ventricular failure': 5, 'drug tolerance': 3, 'bladder cancer stage iv': 11, 'injection site nodule': 7, 'skin mass': 6, 'subcutaneous abscess': 5, 'myasthenia gravis': 6, 'hyperthyroidism': 6, 'hypoaesthesia oral': 5, 'lip blister': 1, 'drug detoxification': 1, 'application site rash': 6, 'salivary gland disorder': 1, 'noninfective gingivitis': 1, 'anal fistula': 3, 'adenosine deaminase increased': 1, 'corneal transplant': 1, 'glycosylated haemoglobin increased': 13, 'sensitive skin': 9, 'inflammatory marker increased': 2, 'disease susceptibility': 2, 'wrong product administered': 5, 'tooth resorption': 1, 'product dose omission in error': 19, 'mood swings': 11, 'electrocardiogram pr shortened': 1, 'metastases to liver': 5, 'liver function test abnormal': 7, 'peripheral nerve injury': 1, 'complication of device insertion': 13, 'immune thrombocytopenia': 3, 'pollakiuria': 15, 'thirst': 5, 'glioblastoma': 3, 'neutrophil percentage increased': 2, 'vaccination site reaction': 1, 'liquid product physical issue': 5, 'acute graft versus host disease': 2, 'uveitis': 16, 'adverse reaction': 6, 'coordination abnormal': 1, 'orofacial granulomatosis': 1, 'disability': 7, 'mental impairment': 7, 'vaccination failure': 3, 'status epilepticus': 1, 'hepatotoxicity': 12, 'blood lactate dehydrogenase increased': 5, 'hiccups': 5, 'respiratory failure': 19, 'pneumonia viral': 1, 'hypokalaemia': 11, 'hypocalcaemia': 7, 'prostate cancer stage iv': 29, 'photosensitivity reaction': 9, 'energy increased': 1, 'overconfidence': 1, 'obsessive thoughts': 1, 'impulsive behaviour': 2, 'biliary colic': 2, 'chronic lymphocytic leukaemia': 2, 'lymphocyte count increased': 3, 'benign neoplasm': 1, 'costal cartilage fracture': 1, 'cartilage atrophy': 1, 'appendicitis perforated': 2, 'idiopathic intracranial hypertension': 1, 'papilloedema': 3, 'skin irritation': 16, 'feeling hot': 14, 'application site dryness': 2, 'intervertebral disc degeneration': 4, 'pruritus genital': 1, 'sensory disturbance': 7, 'gout': 6, 'suicide threat': 1, 'stillbirth': 7, 'dysuria': 8, 'immunosuppression': 2, 'cervix carcinoma stage i': 1, 'blood potassium decreased': 17, 'application site urticaria': 1, 'adhesive tape use': 2, 'injection site indentation': 2, 'blood pressure systolic decreased': 1, 'decreased activity': 6, 'mouth injury': 2, 'genital erosion': 2, 'skin erosion': 2, 'mucosal erosion': 2, 'venoocclusive liver disease': 6, 'coccydynia': 1, 'diverticulum': 3, 'squamous cell carcinoma': 5, 'cholelithotomy': 1, 'middle insomnia': 8, 'anaphylactic shock': 11, 'injection site streaking': 1, 'dental care': 4, 'caesarean section': 4, 'secretion discharge': 4, 'decreased interest': 2, 'scratch': 6, 'renal cancer stage ii': 10, 'senile dementia': 4, 'renal tubular necrosis': 2, 'hypovolaemia': 1, 'akinesia': 1, 'sleep terror': 1, 'snoring': 3, 'pharyngeal erythema': 1, 'cystitis haemorrhagic': 2, 'human herpesvirus 6 infection': 1, 'bk virus infection': 1, 'injection site mass': 22, 'gadolinium deposition disease': 2, 'nontherapeutic agent urine positive': 1, 'ocular hypertension': 1, 'brain neoplasm malignant': 7, 'pelvic mass': 1, 'application site pruritus': 1, 'social avoidant behaviour': 1, 'food interaction': 1, 'thyroiditis': 4, 'adrenocorticotropic hormone deficiency': 2, 'hypothyroidism': 7, 'skin tightness': 2, 'medical device removal': 1, 'pancreatic carcinoma': 25, 'x-ray hepatobiliary abnormal': 1, 'lacrimation increased': 17, 'skin haemorrhage': 7, 'mechanical ventilation': 1, 'cold sweat': 7, 'erysipelas': 1, 'product administered from unauthorised provider': 1, 'immune-mediated uveitis': 1, 'delusion': 3, 'suspected counterfeit product': 2, 'renal cancer stage iv': 16, 'radius fracture': 3, 'localised infection': 10, 'pancreatic carcinoma stage iv': 16, 'device failure': 12, 'maculopathy': 3, 'colorectal cancer stage i': 14, 'diverticulitis': 9, 'colonic abscess': 1, 'neoplasm recurrence': 4, 'disorientation': 12, 'eosinophil count': 1, 'wrong patient received product': 3, 'tooth fracture': 3, 'gastrointestinal toxicity': 2, 'ascites': 5, 'total complement activity increased': 1, 'infusion site extravasation': 5, 'ileostomy': 2, 'amenorrhoea': 8, 'injection site scab': 1, 'fulminant type 1 diabetes mellitus': 1, 'bladder cancer stage ii': 9, 'product container issue': 4, 'coronary artery bypass': 1, 'pancreatic carcinoma metastatic': 1, 'bladder disorder': 6, 'red blood cell count increased': 2, 'injection site abscess': 1, 'non-small cell lung cancer': 6, 'sinus disorder': 8, 'intraocular pressure increased': 4, 'hair colour changes': 7, 'madarosis': 2, 'demyelination': 3, 'haematemesis': 10, 'myocardial injury': 3, 'epigastric discomfort': 2, 'wolff-parkinson-white syndrome': 1, 'drug use disorder': 11, 'aneurysm': 4, 'angina pectoris': 11, 'erythema multiforme': 5, 'atrioventricular block': 2, 'skin striae': 1, 'skin hypertrophy': 1, 'hepatitis fulminant': 5, 'tendinous contracture': 1, 'haemorrhoids': 3, 'pre-existing condition improved': 2, 'hypertrichosis': 3, 'pharyngeal mass': 2, 'stenosis': 3, 'abnormal faeces': 4, 'steatorrhoea': 1, 'drug level abnormal': 3, 'prostatic operation': 2, 'spinal osteoarthritis': 3, 'retinopathy': 2, 'embolism': 4, 'pericardial effusion': 11, 'micturition disorder': 3, 'bladder operation': 3, 'vascular device infection': 6, 'bronchostenosis': 1, 'neurotoxicity': 10, 'dysmetria': 1, 'spinal instability': 1, 'impaired driving ability': 3, 'pneumonectomy': 1, 'allergy to vaccine': 3, 'pleuritic pain': 1, 'troponin increased': 4, 'incision site abscess': 1, 'splenic rupture': 3, 'cervix carcinoma': 3, 'spinal disorder': 3, 'tongue oedema': 2, 'blood phosphorus increased': 3, 'tumour marker increased': 4, 'gamma-glutamyltransferase increased': 13, 'feeling of body temperature change': 2, 'large intestinal obstruction': 4, 'deafness bilateral': 3, 'product label confusion': 2, 'haemolysis': 3, 'haemoglobinuria': 1, 'carcinoembryonic antigen increased': 1, 'metastases to bone': 10, 'blood lactate dehydrogenase abnormal': 1, 'aspartate aminotransferase abnormal': 1, 'amylase abnormal': 1, 'blood creatine phosphokinase abnormal': 1, 'sacral pain': 3, 'local reaction': 3, 'pancreatic carcinoma stage iii': 4, 'ovarian dysfunction': 1, 'pelvic adhesions': 1, 'adhesion': 1, 'menstrual disorder': 4, 'extrasystoles': 1, 'device operational issue': 8, 'acute lymphocytic leukaemia recurrent': 6, 'central nervous system leukaemia': 1, 'pneumonia fungal': 3, 'device delivery system issue': 23, 'acute myeloid leukaemia': 8, 'nerve compression': 5, 'breast cancer stage iv': 28, 'large intestine polyp': 2, 'hypoproteinaemia': 1, 'akathisia': 3, 'bruxism': 1, 'nystagmus': 1, 'vertigo': 16, 'sars-cov-2 test': 1, 'renal pain': 4, 'joint stiffness': 10, 'consciousness fluctuating': 2, 'groin abscess': 2, 'drug dose titration not performed': 5, 'gastric cancer stage i': 7, 'electrocardiogram abnormal': 1, 'lipids increased': 1, 'gastric cancer stage iv': 15, 'exposure via skin contact': 3, 'skin discharge': 2, 'iris disorder': 1, 'coronavirus infection': 9, 'chemical peritonitis': 1, 'peritonitis': 2, 'peritoneal effluent abnormal': 1, 'intervertebral disc disorder': 3, 'dyspareunia': 1, 'intermenstrual bleeding': 5, 'oligomenorrhoea': 1, 'vulvovaginal pain': 2, 'pulmonary arterial hypertension': 4, 'disease complication': 2, 'salpingectomy': 1, 'internal haemorrhage': 5, 'vulvovaginal burning sensation': 4, 'eye allergy': 1, 'hepatomegaly': 3, 'haemophagocytic lymphohistiocytosis': 5, 'infusion site infection': 1, 'intentional device misuse': 3, 'lupus nephritis': 2, 'blood chromogranin a increased': 1, 'retinal pigmentation': 6, 'lung carcinoma cell type unspecified stage iv': 12, 'device related thrombosis': 1, 'failure to thrive': 4, 'arthritis bacterial': 1, 'blood sodium decreased': 6, 'uterine cyst': 1, 'foreign body in throat': 4, 'product size issue': 2, 'oedematous kidney': 2, 'hypersensitivity vasculitis': 1, 'eosinophilia': 6, 'hyperplasia': 1, 'peripheral ischaemia': 3, 'dental pulp disorder': 1, 'sensory loss': 8, 'raynaud^s phenomenon': 4, 'melaena': 3, 'peripheral arterial occlusive disease': 1, 'peripheral artery thrombosis': 2, 'arterial disorder': 3, 'trichiniasis': 1, 'pulse absent': 1, 'occult blood positive': 1, 'ergot poisoning': 1, 'atrophy': 1, 'joint lock': 1, 'toxic skin eruption': 5, 'musculoskeletal discomfort': 10, 'dyschezia': 3, 'rectal tenesmus': 2, 'expired device used': 2, 'female genital tract fistula': 2, 'surgical failure': 2, 'dysentery': 2, 'lung cancer metastatic': 3, 'crepitations': 2, 'hypotonia': 3, 'mucosal dryness': 1, 'hepatic enzyme abnormal': 4, 'nutritional condition abnormal': 2, 'skin discolouration': 22, 'gingival erythema': 1, 'bradykinesia': 2, 'muscle atrophy': 3, 'gingival pain': 6, 'posture abnormal': 2, 'hypervolaemia': 5, 'covid-19 immunisation': 4, 'product tampering': 3, 'neck injury': 1, 'ventricular extrasystoles': 3, 'epidermal necrosis': 1, 'skin hyperpigmentation': 1, 'fixed eruption': 1, 'hyperaesthesia teeth': 3, 'blood creatine increased': 3, 'lipoatrophy': 1, 'blood testosterone increased': 1, 'post procedural contusion': 1, 'blood magnesium decreased': 5, 'feeding tube user': 2, 'pulmonary toxicity': 6, 'peripheral coldness': 7, 'therapeutic response delayed': 1, 'nocturia': 9, 'priapism': 3, 'testicular seminoma (pure) stage i': 1, 'product preparation issue': 3, 'angioplasty': 1, 'glycosuria': 1, 'proteinuria': 3, 'albuminuria': 2, 'anorexia': 1, 'product preparation error': 4, 'bronchospasm': 4, 'haemoptysis': 8, 'testis cancer': 4, 'intestinal ischaemia': 3, 'warm autoimmune haemolytic anaemia': 1, 'marasmus': 1, 'thyroid operation': 2, 'autoimmune thyroiditis': 2, 'juvenile idiopathic arthritis': 2, 'blood ketone body present': 1, 'scab': 5, 'intestinal haemorrhage': 3, 'vaccination site pain': 3, 'bacterial test positive': 1, 'drooling': 3, 'breakthrough pain': 3, 'arthrodesis': 2, 'palmoplantar pustulosis': 3, 'loss of libido': 1, 'spermatogenesis abnormal': 1, 'anorgasmia': 1, 'macular degeneration': 10, 'vitreous disorder': 1, 'hla marker study positive': 1, 'retinitis': 1, 'skin swelling': 3, 'small intestinal obstruction': 4, 'subdural haematoma': 6, 'quality of life decreased': 9, 'lip pruritus': 2, 'hypertonia': 3, 'fontanelle bulging': 3, 'foetal exposure during pregnancy': 22, 'sedation': 6, 'sluggishness': 3, 'product deposit': 1, 'foot deformity': 3, 'hyperaesthesia': 4, 'sputum abnormal': 1, 'traumatic intracranial haemorrhage': 1, 'clavicle fracture': 2, 'glycosylated haemoglobin abnormal': 1, 'brugada syndrome': 1, 'stoma site abscess': 1, 'fistula repair': 1, 'dyskinesia': 15, 'multi-organ disorder': 3, 'chromosome analysis abnormal': 1, 'incorrect dosage administered': 2, 'kidney infection': 17, 'diplegia': 1, 'antibiotic therapy': 2, 'product packaging issue': 5, 'drug level below therapeutic': 7, 'full blood count decreased': 20, 'maternal exposure during breast feeding': 4, 'vascular access site complication': 1, 'nephropathy': 5, 'arteriosclerosis': 2, 'bronchial disorder': 1, 'blood thyroid stimulating hormone decreased': 3, 'hepatic lesion': 4, 'brain empyema': 1, 'brain oedema': 2, 'central nervous system lesion': 6, 'cardiac valve disease': 1, 'anxiety disorder due to a general medical condition': 1, 'blood hiv rna increased': 1, 'swollen tongue': 9, 'tongue haematoma': 1, 'steroid dependence': 1, 'paraesthesia oral': 2, 'throat irritation': 20, 'breast pain': 4, 'oral pruritus': 2, 'metastases to lymph nodes': 4, 'endometrial sarcoma': 1, 'acute myocardial infarction': 6, 'monoclonal gammopathy': 1, 'paranasal sinus discomfort': 2, 'tendon discomfort': 1, 'foetal distress syndrome': 3, 'drug exposure before pregnancy': 3, 'cholangiocarcinoma': 2, 'pharyngeal disorder': 4, 'pathogen resistance': 4, 'viral mutation identified': 2, 'genetic polymorphism': 1, 'viral load increased': 1, 'device audio issue': 2, 'lip and/or oral cavity cancer': 2, 'multimorbidity': 1, 'vessel puncture site injury': 1, 'meningioma': 4, 'gastric cancer stage iii': 1, 'oligohydramnios': 2, 'foetal hypokinesia': 2, 'premature delivery': 12, 'bipolar disorder': 2, 'mania': 4, 'compulsive shopping': 2, 'euphoric mood': 3, 'delusion of grandeur': 1, 'vulval cancer stage 0': 1, 'adenocarcinoma pancreas': 1, 'tongue spasm': 1, 'deafness': 16, 'sunburn': 2, 'osteomyelitis': 9, 'low density lipoprotein increased': 1, 'arteriosclerosis coronary artery': 3, 'blood iron decreased': 4, 'poisoning deliberate': 5, 'scleroderma': 1, 'respiratory tract infection': 11, 'jaw fracture': 2, 'forearm fracture': 2, 'antibody test negative': 1, 'coronary arterial stent insertion': 2, 'prostatomegaly': 3, 'premature labour': 3, 'pulmonary mass': 9, 'polyneuropathy': 2, 'pregnancy with contraceptive device': 1, 'pregnancy of partner': 1, 'electrocardiogram low voltage': 1, 'foreign body in reproductive tract': 14, 'product packaging difficult to open': 2, 'fear': 12, 'gastroenteritis': 6, 'infertility': 2, 'grief reaction': 1, 'lip pain': 3, 'lip dry': 1, 'antinuclear antibody increased': 1, 'parenteral nutrition associated liver disease': 1, 'immune effector cell-associated neurotoxicity syndrome': 3, 'cytokine release syndrome': 3, 'corneal graft failure': 1, 'flank pain': 3, 'varicella zoster virus infection': 2, 'cerebellar atrophy': 1, 'dysarthria': 18, 'hepatocellular injury': 3, 'hydronephrosis': 3, 'disseminated intravascular coagulation': 6, 'blepharospasm': 3, 'hodgkin^s disease refractory': 1, 'left ventricular false tendon': 1, 'bradycardia neonatal': 1, 'atrial septal defect': 1, 'hypoglycaemia neonatal': 2, 'respiratory disorder neonatal': 1, 'fear of injection': 2, 'appendix cancer': 5, 'pulmonary thrombosis': 5, 'endometriosis': 4, 'aortic dissection': 3, 'ectopic pregnancy with contraceptive device': 2, 'abortion of ectopic pregnancy': 1, 'ear discomfort': 8, 'tachyphrenia': 1, 'vascular operation': 1, 'asthenopia': 3, 'cutaneous t-cell lymphoma': 3, 'anal cancer': 1, 'colon cancer': 8, 'sarcoma': 2, 'conjunctival haemorrhage': 3, 'cardiovascular disorder': 6, 'urinary retention': 13, 'muscle hypertrophy': 1, 'spinal stenosis': 2, 'nasal obstruction': 1, 'throat tightness': 5, 'fractured coccyx': 1, 'haemorrhage intracranial': 4, 'reproductive complication associated with device': 8, 'throat clearing': 5, 'communication disorder': 1, 'psychotic disorder': 7, 'bone marrow disorder': 1, 'ischaemic stroke': 2, 'pneumonitis': 7, 'clostridium test positive': 1, 'rash morbilliform': 1, 'mycobacterium tuberculosis complex test positive': 5, 'tinea infection': 2, 'product use complaint': 6, 'brain injury': 7, 'dystonia': 3, 'polymyalgia rheumatica': 3, 'thyroxine free increased': 2, 'blood thyroid stimulating hormone increased': 1, 'bladder cancer stage iii': 8, 'drug delivery system issue': 3, 'ovarian haemorrhage': 1, 'gastric bypass': 2, 'postoperative wound infection': 2, 'pelvic pain': 4, 'medical device implantation': 2, 'device loosening': 3, 'drug level fluctuating': 1, 'oesophageal varices haemorrhage': 1, 'haematuria': 11, 'vitreous haemorrhage': 2, 'mucosal haemorrhage': 1, 'urogenital haemorrhage': 1, 'cerebellar haemorrhage': 1, 'faeces soft': 4, 'cholestasis': 8, 'prinzmetal angina': 1, 'connective tissue inflammation': 1, 'gingivitis': 3, 'rib fracture': 4, 'cystitis noninfective': 1, 'prostate cancer stage 0': 7, 'schizophrenia': 4, 'panic reaction': 2, 'alexia': 1, 'body height decreased': 3, 'breast cyst': 1, 'wound secretion': 5, 'escherichia sepsis': 1, 'liver function test increased': 7, 'fat tissue decreased': 2, 'faecal volume increased': 1, 'rheumatic disorder': 2, 'retinal dystrophy': 1, 'myopathy': 4, 'erythema of eyelid': 1, 'ectopic pregnancy': 1, 'herpes simplex': 4, 'actinic keratosis': 3, 'arteriogram': 1, 'muscle necrosis': 1, 'blood creatine phosphokinase increased': 9, 'oesophageal perforation': 1, 'tissue injury': 1, 'tooth infection': 5, 'physiotherapy': 1, 'paranasal sinus hypersecretion': 1, 'herpes ophthalmic': 3, 'photophobia': 6, 'feeling jittery': 4, 'neck surgery': 2, 'catheterisation cardiac': 1, 'pregnancy': 4, 'cardiac complication associated with device': 1, 'anticoagulation drug level below therapeutic': 1, 'lower gastrointestinal haemorrhage': 1, 'chronic graft versus host disease': 1, 'vaginal infection': 3, 'genital herpes': 2, 'pulmonary arterial pressure increased': 2, 'intentional device use issue': 1, 'device power source issue': 2, 'liver operation': 2, 'airway complication of anaesthesia': 1, 'encephalopathy': 9, 'physical deconditioning': 1, 'epiglottitis': 1, 'nerve block': 1, 'mastectomy': 1, 'colon cancer stage iii': 2, 'differentiation syndrome': 2, 'blood calcium abnormal': 1, 'wound complication': 2, 'auditory disorder': 2, 'spinal cord injury': 1, 'eating disorder': 9, 'photopsia': 2, 'vitreous floaters': 3, 'dependence': 2, 'impatience': 1, 'sputum increased': 2, 'dementia alzheimer^s type': 4, 'device defective': 15, 'respiratory tract irritation': 1, 'radiation injury': 1, 'blastomycosis': 2, 'immunology test': 1, 'shoulder operation': 3, 'mixed connective tissue disease': 1, 'ovarian cancer metastatic': 1, 'hepatitis cholestatic': 3, 'product communication issue': 4, 'limb operation': 5, 'ovarian cancer stage iii': 1, 'walking aid user': 5, 'vaginal haemorrhage': 5, 'menstruation irregular': 2, 'device kink': 2, 'performance status decreased': 3, 'urine analysis abnormal': 1, 'suspected product tampering': 1, 'oral disorder': 1, 'injection site nerve damage': 1, 'tryptase decreased': 4, 'allergic cough': 2, 'pancreatic carcinoma stage i': 5, 'transcription medication error': 4, 'bronchial wall thickening': 1, 'serum serotonin increased': 2, 'postoperative adhesion': 2, 'bursal fluid accumulation': 1, 'faecal calprotectin increased': 4, 'wrong device used': 1, 'gastrointestinal lymphoma': 1, 'application site paraesthesia': 1, 'application site swelling': 1, 'application site reaction': 1, 'application site burn': 2, 'metabolic acidosis': 6, 'mitochondrial cytopathy': 1, 'symptom recurrence': 5, 'vaccination complication': 1, 'malnutrition': 3, 'procedural haemorrhage': 2, 'bite': 1, 'white blood cell count abnormal': 4, 'circulatory collapse': 6, 'tuberculoid leprosy': 1, 'stoma site erythema': 2, 'stoma site discharge': 2, 'hypertransaminasaemia': 2, 'vein collapse': 1, 'hiv test': 1, 'colon cancer stage iv': 3, 'anal fissure': 4, 'blood pressure diastolic decreased': 7, 'vein disorder': 4, 'defiant behaviour': 1, 'injection site infection': 1, 'tuberculosis': 3, 'muscle rupture': 2, 'face injury': 1, 'stress at work': 1, 'palliative care': 2, 'red blood cell transfusion': 1, 'platelet transfusion': 2, 'foaming at mouth': 1, 'skin laceration': 4, 'pneumonia legionella': 2, 'dupuytren^s contracture': 1, 'soft tissue haemorrhage': 1, 'lymphoedema': 3, 'lung adenocarcinoma': 1, 'post transplant lymphoproliferative disorder': 2, 'post procedural complication': 9, 'proctalgia': 3, 'abnormal loss of weight': 3, 'optic nerve injury': 1, 'large intestine infection': 1, 'arteriovenous malformation': 3, 'idiopathic pulmonary fibrosis': 3, 'periorbital swelling': 8, 'otitis media chronic': 1, 'ear congestion': 1, 'thyroid disorder': 7, 'conjunctivitis allergic': 1, 'transaminases increased': 9, 'lymphopenia': 9, 'ventricular hypokinesia': 3, 'activated partial thromboplastin time prolonged': 1, 'tendon rupture': 5, 'anal incontinence': 7, 'eye oedema': 1, 'neurologic neglect syndrome': 1, 'implant site infection': 1, 'abdominal adhesions': 3, 'hepatic steatosis': 6, 'fear of disease': 2, 'hysterectomy': 3, 'precancerous cells present': 1, 'major depression': 1, 'lower limb fracture': 14, 'femoral neck fracture': 2, 'ileus': 1, 'metastases to neck': 2, 'decubitus ulcer': 3, 'acromegaly': 1, 'petit mal epilepsy': 3, 'spinal fusion surgery': 2, 'craniocerebral injury': 3, 'brca2 gene mutation': 1, 'fibrocystic breast disease': 2, 'ligament rupture': 3, 'acquired hydrocele': 1, 'prostatic disorder': 4, 'abdominal cavity drainage': 1, 'thrombotic microangiopathy': 2, 'wound decomposition': 1, 'torsade de pointes': 3, 'vitamin d abnormal': 1, 'groin pain': 4, 'glomerular filtration rate decreased': 8, 'mouth swelling': 5, 'meningitis aseptic': 2, 'cytogenetic analysis abnormal': 1, 'prescribed underdose': 11, 'ulcerated haemangioma': 1, 'eye infection': 6, 'small for dates baby': 1, 'temperature regulation disorder': 1, 'acute hepatic failure': 2, 'expanded disability status scale score increased': 1, 'tongue neoplasm malignant stage unspecified': 5, 'asymptomatic covid-19': 3, 'hypomania': 1, 'optic neuropathy': 1, 'iga nephropathy': 2, 'corneal disorder': 1, 'tendon disorder': 1, 'tongue ulceration': 1, 'lip exfoliation': 1, 'oral cavity fistula': 1, 'discharge': 2, 'umbilical hernia': 2, 'chemotherapy': 2, 'blood glucose fluctuation': 4, 'dental operation': 2, 'drainage': 2, 'muscle strain': 3, 'fine motor skill dysfunction': 4, 'live birth': 9, 'alpha haemolytic streptococcal infection': 1, 'magnetic resonance imaging abnormal': 2, 'norovirus infection': 1, 'enterocolitis': 2, 'blood culture positive': 1, 'scedosporium infection': 1, 'acute respiratory distress syndrome': 2, 'testicular operation': 1, 'terminal state': 5, 'bone fissure': 1, 'transaminases abnormal': 1, 'cholestatic liver injury': 1, 'visual field defect': 2, 'cancer surgery': 2, 'rehabilitation therapy': 4, 'hypercalcaemia': 1, 'large intestinal ulcer': 1, 'cardiac failure acute': 3, 'hepatic failure': 6, 'metastases to peritoneum': 1, 'blood albumin decreased': 1, 'blood cholinesterase increased': 1, 'campylobacter infection': 1, 'bacteraemia': 4, 'discontinued product administered': 1, 'bone cyst': 1, 'bradypnoea': 1, 'autoimmune hepatitis': 1, 'neuromyopathy': 3, 'visual': 6, 'abdominal rigidity': 4, 'gastrointestinal neoplasm': 1, 'accidental exposure to product by child': 1, 'pelvic organ injury': 1, 'impaired gastric emptying': 3, 'dry age-related macular degeneration': 4, 'gastric haemorrhage': 3, 'menopause': 1, 'hypovitaminosis': 1, 'infusion site urticaria': 1, 'infusion site erythema': 4, 'device infusion issue': 2, 'multiple allergies': 2, 'urosepsis': 5, 'spinal fracture': 5, 'bronchitis chronic': 2, 'extranodal marginal zone b-cell lymphoma (malt type)': 1, 'vein rupture': 3, 'application site haemorrhage': 3, 'extremity necrosis': 2, 'asthmatic crisis': 3, 'magnetic resonance imaging head': 1, 'ewing^s sarcoma': 1, 'monocyte count decreased': 1, 'pregnancy after post coital contraception': 1, 'renal transplant': 1, 'hypopituitarism': 6, 'therapeutic response prolonged': 1, 'intestinal perforation': 3, 'alanine aminotransferase abnormal': 1, 'gastrointestinal injury': 3, 'subarachnoid haemorrhage': 2, 'lens dislocation': 1, 'bundle branch block right': 2, 'fear of falling': 1, 'vasoconstriction': 1, 'hordeolum': 2, 'seizure cluster': 2, 'tenosynovitis stenosans': 1, 'electrolyte imbalance': 3, 'urine output increased': 2, 'colostomy': 2, 'infrequent bowel movements': 2, 'respiration abnormal': 7, 'on and off phenomenon': 4, 'hepatic infection': 1, 'borderline personality disorder': 1, 'device alarm issue': 2, 'blood pressure measurement': 1, 'encapsulation reaction': 1, 'eosinophilic myocarditis': 2, 'spinal fusion acquired': 1, 'dermatitis acneiform': 3, 'postmenopausal haemorrhage': 1, 'endometrial thickening': 1, 'dermatitis psoriasiform': 3, 'angular cheilitis': 2, 'mechanical urticaria': 1, 'bronchiectasis': 1, 'varicose vein': 2, 'lymphoblast count increased': 1, 'hyperglycaemic hyperosmolar nonketotic syndrome': 2, 'steroid diabetes': 2, 'oropharyngeal discomfort': 4, 'hyperkeratosis': 3, 'social problem': 2, 'red blood cell sedimentation rate abnormal': 1, 'rheumatoid factor negative': 1, 'bone erosion': 1, 'drug monitoring procedure not performed': 1, 'rotavirus infection': 1, 'international normalised ratio decreased': 1, 'diastolic dysfunction': 1, 'cardiac valve sclerosis': 1, 'mitral valve incompetence': 2, 'tricuspid valve incompetence': 2, 'supraventricular tachyarrhythmia': 1, 'sinus arrhythmia': 2, 'hair texture abnormal': 5, 'hair disorder': 1, 'sinusitis bacterial': 1, 'glucose tolerance impaired': 2, 'central obesity': 1, 'type v hyperlipidaemia': 1, 'heart valve incompetence': 1, 'dermatitis exfoliative': 1, 'cushingoid': 1, 'prescription drug used without a prescription': 7, 'drug diversion': 1, 'mitral valve repair': 1, 'transitional cell cancer of the renal pelvis and ureter': 1, 'urinary glycosaminoglycans increased': 1, 'urine odour abnormal': 2, 'rash maculo-papular': 6, 'limb deformity': 2, 'bicytopenia': 2, 'pneumatosis intestinalis': 2, 'persistent genital arousal disorder': 1, 'urinary tract disorder': 3, 'neurodermatitis': 2, 'focal dyscognitive seizures': 1, 'temporal lobe epilepsy': 1, 'graft versus host disease in skin': 2, 'polydipsia': 2, 'polyuria': 2, 'diaphragmatic disorder': 2, 'plasmablastic lymphoma': 1, 'page kidney': 1, 'delayed graft function': 1, 'food poisoning': 5, 'calculus urinary': 2, 'necrobiosis lipoidica diabeticorum': 1, 'hepatic neuroendocrine tumour': 1, 'troponin i increased': 2, 'respiratory distress': 12, 'polycythaemia vera': 1, 'gastroenteritis cryptosporidial': 1, 'purulence': 1, 'acute generalised exanthematous pustulosis': 3, 'animal scratch': 2, 'therapeutic product effect delayed': 3, 'thiopurine methyltransferase decreased': 1, 'ocular icterus': 1, 'ileostomy closure': 1, 'intestinal operation': 1, 'incision site pain': 1, 'stoma site pain': 2, 'intestinal cyst': 1, 'blood pressure systolic abnormal': 3, 'blood pressure systolic increased': 12, 'hypertensive urgency': 2, 'enzyme level abnormal': 1, 'eosinophil count abnormal': 1, 'eye haemorrhage': 4, 'vitreous opacities': 1, 'optic nerve disorder': 1, 'testicular torsion': 1, 'scrotal haematoma': 1, 'testicular injury': 1, 'testicular swelling': 2, 'cortisol decreased': 1, 'colon cancer stage i': 2, 'phimosis': 1, 'food aversion': 1, 'hypophagia': 2, 'cervical radiculopathy': 2, 'foreign body sensation in eyes': 3, 'rash erythematous': 14, 'product lot number issue': 2, 'wrong dose': 3, 'acute sinusitis': 1, 'haematocrit increased': 2, 'conjunctival erosion': 1, 'product leakage': 3, 'injection site hypoaesthesia': 2, 'respiratory rate increased': 5, 'stoma site reaction': 1, 'central pain syndrome': 1, 'hemiparesis': 8, 'convulsion': 1, 'hypernatraemia': 5, 'hypoalbuminaemia': 2, 'blood urea increased': 4, 'protein total decreased': 1, 'therapeutic product ineffective for unapproved indication': 1, 'carotid artery occlusion': 2, 'sudden death': 3, 'duodenal ulcer': 4, 'tension': 2, 'renal colic': 1, 'coronary artery stenosis': 1, 'pulmonary congestion': 1, 'nephrogenic anaemia': 4, 'injection site hypersensitivity': 1, 'oesophageal pain': 3, 'tongue discomfort': 3, 'exposure to sars-cov-2': 2, 'rheumatoid nodule': 1, 'axillary pain': 1, 'granulomatosis with polyangiitis': 1, 'euthanasia': 1, 'suture removal': 1, 'suture related complication': 1, 'ligamentitis': 1, 'mazzotti reaction': 1, 'localised oedema': 1, 'aortic aneurysm rupture': 1, 'atrial flutter': 2, 'sputum discoloured': 3, 'chromaturia': 4, 'jealous delusion': 1, 'impulse-control disorder': 1, 'musculoskeletal pain': 5, 'c-reactive protein abnormal': 2, 'fishbane reaction': 1, 'anorectal disorder': 2, 'acne pustular': 1, 'product impurity': 1, 'infective pulmonary exacerbation of cystic fibrosis': 1, 'laziness': 3, 'gastrointestinal surgery': 1, 'incontinence': 2, 'blood creatinine decreased': 3, 'joint dislocation': 4, 'premature ejaculation': 1, 'petechiae': 3, 'joint space narrowing': 1, 'tongue movement disturbance': 3, 'cryptococcosis': 1, 'disseminated cryptococcosis': 1, 'grand mal convulsion': 1, 'neurological symptom': 1, 'atypical haemolytic uraemic syndrome': 1, 'gambling': 1, 'parkinsonian gait': 1, 'platelet count increased': 10, 'pyramidal tract syndrome': 1, 'angiopathy': 1, 'acinetobacter infection': 1, 'exposure to toxic agent': 2, 'postpartum haemorrhage': 1, 'shock haemorrhagic': 2, 'cerebrovascular disorder': 2, 'wound haemorrhage': 3, 'furuncle': 4, 'polymyositis': 1, 'bloody peritoneal effluent': 1, 'device ineffective': 1, 'wound dehiscence': 1, 'thyroid mass': 2, 'chest wall mass': 1, 'pseudomonal sepsis': 2, 'hepatic candidiasis': 1, 'cytomegalovirus test positive': 1, 'neoplasm skin': 2, 'spondylitis': 1, 'coronary artery aneurysm': 1, 'visual acuity reduced': 6, 'blood oestrogen decreased': 1, 'jugular vein thrombosis': 2, 'ejaculation failure': 1, 'toxic epidermal necrolysis': 2, 'neutrophilia': 3, 'tongue discolouration': 2, 'prostate cancer metastatic': 3, 'device connection issue': 2, 'product reconstitution quality issue': 2, 'nephropathy toxic': 2, 'renal cyst': 3, 'haemorrhage subcutaneous': 5, 'vomiting projectile': 1, 'platelet count abnormal': 2, 'negative thoughts': 1, 'hyperphagia': 1, 'cardioversion': 2, 'blood calcium increased': 4, 'pigmentation disorder': 3, 'product monitoring error': 1, 'respiratory rate decreased': 1, 'acrochordon': 1, 'endometrial cancer': 2, 'intrusive thoughts': 3, 'bladder neoplasm': 1, 'gluten sensitivity': 2, 'pneumothorax spontaneous': 1, 'ketoacidosis': 4, 'hypothalamo-pituitary disorder': 1, 'pseudomyopia': 1, 'bradyarrhythmia': 2, 'myelitis transverse': 1, 'bladder cancer recurrent': 1, 'mitral valve disease': 1, 'instillation site erythema': 2, 'smear cervix abnormal': 2, 'anal ulcer': 1, 'galactorrhoea': 2, 'yellow skin': 2, 'depersonalisation/derealisation disorder': 2, 'ulcer haemorrhage': 2, 'gastric polyps': 2, 'hepatic cancer stage i': 2, 'hydrocholecystis': 1, 'carcinoid crisis': 1, 'metabolic disorder': 2, 'rotator cuff repair': 1, 'sensitisation': 1, 'extrapyramidal disorder': 3, 'haemorrhage urinary tract': 2, 'goitre': 3, 'parathyroid gland enlargement': 1, 'steroid withdrawal syndrome': 1, 'exercise lack of': 1, 'pustular psoriasis': 1, 'concomitant disease progression': 1, 'somatic hallucination': 1, 'psychotic behaviour': 1, 'lung transplant': 2, 'respiratory depression': 4, 'acute graft versus host disease in skin': 2, 'labelled drug-drug interaction medication error': 4, 'immunosuppressant drug level decreased': 1, 'tachyphylaxis': 1, 'product formulation issue': 3, 'immobile': 1, 'restless legs syndrome': 4, 'renal neoplasm': 2, 'injection site irritation': 4, 'hepatic cancer stage iii': 3, 'macular oedema': 3, 'wound sepsis': 1, 'organ failure': 2, 'oesophageal carcinoma stage 0': 1, 'gastrointestinal bacterial infection': 1, 'mucormycosis': 1, 'tracheobronchitis': 1, 'lung transplant rejection': 2, 'affective disorder': 4, 'transplant': 3, 'herpes simplex encephalitis': 1, 'areflexia': 1, 'eye discharge': 6, 'diabetic retinal oedema': 1, 'mastoid abscess': 1, 'cardiac flutter': 2, 'mesenteric artery thrombosis': 1, 'immune-mediated hypothyroidism': 2, 'hyperammonaemic encephalopathy': 1, 'drug withdrawal syndrome neonatal': 1, 'amputation': 1, 'cataract subcapsular': 1, 'uterine polyp': 2, 'infective aneurysm': 1, 'vascular pseudoaneurysm': 1, 'parvovirus b19 infection': 1, 'xeroderma': 1, 'oesophageal cancer metastatic': 1, 'pyoderma gangrenosum': 2, 'drug specific antibody absent': 1, 'arthritis infective': 1, 'anaesthetic complication': 3, 'lung infiltration': 2, 'atypical pneumonia': 1, 'epstein-barr virus associated lymphoproliferative disorder': 1, 'tension headache': 2, 'inflammatory bowel disease': 3, 'dyslipidaemia': 4, 'urinary tract infection bacterial': 1, 'eye injury': 1, 'mental fatigue': 1, 'oral fungal infection': 1, 'altered state of consciousness': 3, 'joint effusion': 3, 'bleeding time prolonged': 1, 'gait spastic': 2, 'hypertonic bladder': 2, 'micturition urgency': 4, 'monoparesis': 2, 'needle fatigue': 3, 'relapsing-remitting multiple sclerosis': 2, 'small intestinal resection': 1, 'blood iron increased': 1, 'lung opacity': 2, 'eosinophilic oesophagitis': 1, 'serotonin syndrome': 2, 'cyanosis central': 1, 'pulse abnormal': 2, 'sleep paralysis': 1, 'diffuse large b-cell lymphoma': 2, 'hepatic encephalopathy': 2, 'chronic hepatic failure': 1, 'hepatorenal syndrome': 1, 'nail avulsion': 2, 'loss of employment': 1, 'chronic kidney disease-mineral and bone disorder': 2, 'economic problem': 7, 'bone marrow failure': 2, 'tumour lysis syndrome': 5, 'auditory': 6, 'hepatic mass': 1, 'metastases to pancreas': 1, 'nerve degeneration': 1, 'renal mass': 2, 'systemic mycosis': 1, 'pulmonary alveolar haemorrhage': 2, 'hypercalciuria': 1, 'recalled product': 1, 'tooth abscess': 1, 'dyslexia': 1, 'retinal injury': 1, 'scoliosis': 3, 'labelled drug-drug interaction issue': 1, 'nipple pain': 1, 'gastric ph decreased': 1, 'chest injury': 2, 'exostosis': 2, 'pneumonia staphylococcal': 1, 'eosinophilic pneumonia': 1, 'feeling drunk': 1, 'blood uric acid increased': 2, 'breast tenderness': 2, 'binocular eye movement disorder': 1, 'dyslalia': 1, 'salivary gland calculus': 1, 'blood immunoglobulin g increased': 2, 'bone infarction': 1, 'mutism': 1, 'spinal cord disorder': 1, 'keratoconus': 1, 'antidepressant drug level below therapeutic': 1, 'diverticular perforation': 1, 'upper gastrointestinal haemorrhage': 2, 'breath sounds abnormal': 2, 'nasal disorder': 2, 'tonsillar disorder': 1, 'discouragement': 5, 'freezing phenomenon': 1, 'retroperitoneal lymphadenopathy': 1, 'elbow operation': 1, 'fournier^s gangrene': 1, 'gangrene': 3, 'chapped lips': 3, 'scrotal abscess': 1, 'perineal abscess': 1, 'necrotising fasciitis': 1, 'gynaecomastia': 5, 'nail growth abnormal': 2, 'koilonychia': 1, 'clubbing': 2, 'suspiciousness': 1, 'polyarthritis': 2, 'inflammatory pain': 1, 'faecal calprotectin': 1, 'thrombocytosis': 1, 'paresis': 2, 'venous thrombosis': 1, 'myositis': 2, 'uterine operation': 1, 'organising pneumonia': 1, 'reading disorder': 1, 'dermatitis allergic': 2, 'eczema infected': 1, 'staphylococcal skin infection': 1, 'myeloma cast nephropathy': 1, 'transplant evaluation': 2, 'hangover': 2, 'hepatitis c rna increased': 1, 'portal hypertension': 1, 'medical device discomfort': 2, 'sideroblastic anaemia': 1, 'prurigo': 1, 'hepatic necrosis': 2, 'myoclonus': 2, 'hypertensive nephropathy': 1, 'infected cyst': 1, 'tooth disorder': 8, 'eye infection bacterial': 1, 'toothache': 6, 'skin toxicity': 5, 'self-injurious ideation': 3, 'colon operation': 1, 'parenteral nutrition': 1, 'malabsorption': 2, 'bell^s palsy': 1, 'recurrent cancer': 1, 'hypoaesthesia eye': 1, 'product design issue': 1, 'learning disorder': 1, 'meniscus injury': 4, 'bartholin^s cyst': 2, 'delayed dark adaptation': 2, 'cutaneous lupus erythematosus': 1, 'vena cava filter insertion': 1, 'hepatitis b reactivation': 2, 'adnexa uteri pain': 3, 'disorganised speech': 1, 'multiple-drug resistance': 1, 'post procedural urine leak': 2, 'ureteric fistula': 1, 'ureteric repair': 1, 'urinary tract stoma complication': 1, 'colonic fistula': 1, 'chemical burns of eye': 1, 'injection site granuloma': 1, 'application site pustules': 1, 'product used for unknown indication': 2, 'salivary gland cancer': 1, 'transplantation complication': 1, 'staphylococcal sepsis': 2, 'oral surgery': 3, 'phlebitis': 5, 'meningitis': 3, 'breast cancer male': 2, 'heat illness': 2, 'blood urine': 1, 'blood albumin abnormal': 1, 'dysplasia': 2, 'arnold-chiari malformation': 1, 'neural tube defect': 1, 'quadriparesis': 1, 'therapy change': 2, 'alcohol withdrawal syndrome': 2, 'accelerated idioventricular rhythm': 1, 'poikilocytosis': 1, 'anisocytosis': 2, 'elliptocytosis': 1, 'high density lipoprotein decreased': 1, 'very low density lipoprotein decreased': 1, 'non-high-density lipoprotein cholesterol decreased': 1, 'red blood cell sedimentation rate increased': 3, 'electrocardiogram p wave abnormal': 1, 'electrocardiogram rr interval prolonged': 1, 'infected fistula': 1, 'pyloric stenosis': 2, 'radiculopathy': 2, 'gastric dilatation': 1, 'cleft palate': 1, 'malignant neoplasm of eye': 1, 'pharyngeal oedema': 2, 'skin papilloma': 2, 'bile duct stone': 2, 'product identification number issue': 1, 'phlebitis infective': 1, 'ophthalmic vein thrombosis': 1, 'anorectal operation': 1, 'retinal neoplasm': 1, 'parapsoriasis': 1, 'proctitis': 1, 'pneumonitis chemical': 1, 'pulmonary vasculitis': 1, 'autonomic nervous system imbalance': 1, 'allergic reaction to excipient': 3, 'metapneumovirus infection': 2, 'henoch-schonlein purpura': 2, 'cyst rupture': 1, 'chronic spontaneous urticaria': 1, 'hepatosplenomegaly': 2, 'granulocytopenia': 1, 'cytomegalovirus colitis': 1, 'viral hepatitis carrier': 1, 'central nervous system lymphoma': 1, 't-lymphocyte count decreased': 2, 'anastomotic ulcer': 1, 'lower respiratory tract infection bacterial': 1, 'ejection fraction abnormal': 3, 'volvulus': 1, 'antibody test abnormal': 2, 'intervertebral disc operation': 1, 'adult t-cell lymphoma/leukaemia': 2, 'reticulocyte count increased': 1, 'bone marrow myelogram abnormal': 2, 'eye symptom': 1, 'aphasia': 8, 'oesophageal stenosis': 1, 'motor dysfunction': 4, 'prothrombin time ratio decreased': 1, 'posterior capsule opacification': 1, 'orthosis user': 1, 'infectious mononucleosis': 1, 'chronic hepatitis': 1, 'nasal oedema': 1, 'arthropod sting': 1, 'cholecystitis': 2, 'cholangitis sclerosing': 3, 'substance abuse': 1, 'anal fissure haemorrhage': 1, 'colectomy': 3, 'large intestinal stenosis': 1, 'musculoskeletal toxicity': 1, 'csf cell count increased': 1, 'csf protein increased': 1, 'interleukin level increased': 2, 'alcohol intolerance': 1, 'serum amyloid a protein increased': 1, 'aplastic anaemia': 2, 'neuroendocrine tumour': 1, 'limb mass': 1, 'vitamin b12 decreased': 1, 'insulin-like growth factor increased': 1, 'pseudomonas infection': 2, 'clumsiness': 1, 'hoigne^s syndrome': 1, 'morning sickness': 1, 'pregnancy on oral contraceptive': 1, 'cross sensitivity reaction': 2, 'aortic valve incompetence': 1, 'leg amputation': 2, 'fingerprint loss': 1, 'swollen joint count increased': 1, 'pemphigoid': 3, 'citrobacter bacteraemia': 1, 'spontaneous bacterial peritonitis': 1, 'jaundice': 4, 'hepatic fibrosis': 2, 'sialoadenitis': 1, 'neurotransmitter level altered': 1, 'electrocardiogram pr prolongation': 1, 'stent placement': 3, 'allergic sinusitis': 2, 'cftr gene mutation': 1, 'pancreatitis relapsing': 1, 'ureteric cancer': 1, 'product dispensing issue': 5, 'thrombophlebitis': 1, 'iatrogenic injury': 1, 'venomous sting': 1, 'benign neoplasm of skin': 1, 'writer^s cramp': 1, 'congenital musculoskeletal anomaly': 1, 'loss of therapeutic response': 1, 'drug clearance increased': 1, 'haemoglobin increased': 2, 'neurogenic shock': 3, 'hepatic pain': 3, 'bone atrophy': 1, 'phaeohyphomycosis': 1, 'pupillary disorder': 2, 'infusion site inflammation': 1, 'tooth injury': 3, 'intervertebral disc injury': 1, 'tendon operation': 1, 'pulmonary pain': 2, 'granulomatous liver disease': 1, 'mixed liver injury': 1, 'eye naevus': 1, 'renal haemorrhage': 1, 'blood creatinine abnormal': 2, 'glomerular filtration rate abnormal': 1, 'blood sodium abnormal': 1, 'salmonellosis': 2, 'nephrocalcinosis': 1, 'lung lobectomy': 1, 'small intestinal perforation': 1, 'tongue blistering': 2, 'vein discolouration': 1, 'amniotic band syndrome': 1, 'lymphocytosis': 2, 'blister infected': 1, 'cardiac ablation': 1, 'immune-mediated enterocolitis': 4, 'therapeutic procedure': 2, 'egfr gene mutation': 1, 'malignant transformation': 1, 'malignant pleural effusion': 1, 'renal cell carcinoma': 3, 'protein urine present': 2, 'polyp': 2, 'cardiac death': 1, 'sitting disability': 1, 'genital rash': 1, 'device temperature issue': 1, 'parosmia': 3, 'sinus node dysfunction': 2, 'benign prostatic hyperplasia': 1, 'vascular dementia': 2, 'psychomotor retardation': 1, 'slow response to stimuli': 2, 'radiation pneumonitis': 1, 'teratoma': 1, 'fracture displacement': 1, 'keratoacanthoma': 1, 'bronchopneumopathy': 1, 'lymphangitis': 1, 'gallbladder operation': 5, 'bone scan abnormal': 1, 'adenocarcinoma': 1, 'gastrointestinal adenocarcinoma': 1, 'cardiovascular insufficiency': 1, 'chronic myeloid leukaemia': 1, 'postoperative wound complication': 1, 'osteoporotic fracture': 2, 'hyperparathyroidism secondary': 1, 'haemorrhoids thrombosed': 1, 'post procedural constipation': 1, 'skin plaque': 3, 'fibrin d dimer increased': 1, 'urine output decreased': 2, 'effusion': 1, 'skin fragility': 1, 'tongue erythema': 1, 'cutaneous lymphoma': 1, 'morton^s neuralgia': 1, 'sinus pain': 2, 'odynophagia': 1, 'stridor': 3, 'sinusitis fungal': 1, 'choking sensation': 1, 'acute respiratory failure': 3, 'optic ischaemic neuropathy': 1, 'ankle operation': 2, 'glossitis': 2, 'dysphoria': 1, 'muscle rigidity': 5, 'sinus tachycardia': 2, 'pulseless electrical activity': 4, 'heart transplant rejection': 1, 'panniculitis': 1, 'metastases to skin': 1, 'masked facies': 1, 'foetal disorder': 1, 'renal tubular disorder': 1, 'hypocalvaria': 1, 'skull malformation': 1, 'bicuspid aortic valve': 1, 'renal vessel disorder': 1, 'kidney fibrosis': 2, 'gastrointestinal tube insertion': 1, 'hepatitis c': 2, 'phototherapy': 1, 'cell death': 1, 'creatinine renal clearance decreased': 3, 'optic disc drusen': 1, 'relapsing fever': 1, 'ejection fraction decreased': 7, 'hyperaemia': 1, 'skin indentation': 1, 'ventricular fibrillation': 3, 'listless': 1, 'epiretinal membrane': 1, 'gingival cyst': 1, 'regurgitation': 2, 'abscess oral': 1, 'bacterial vaginosis': 1, 'allergy to animal': 1, 'cat scratch disease': 1, 'human metapneumovirus test positive': 1, 'adenovirus infection': 1, 'chitotriosidase increased': 1, 'necrotising enterocolitis neonatal': 1, 'meconium abnormal': 1, 'laparotomy': 1, 'neck mass': 3, 'band sensation': 1, 'sensation of foreign body': 1, 'obsessive-compulsive personality disorder': 1, 'acute graft versus host disease in liver': 1, 'graft versus host disease in gastrointestinal tract': 2, 'growth retardation': 1, 'bowen^s disease': 1, 'hepatic cyst': 2, 'paraplegia': 1, 'medical device site discharge': 1, 'dry throat': 1, 'thermal burn': 2, 'thirst decreased': 2, 'trichorrhexis': 1, 'cerebral disorder': 3, 'fungal foot infection': 1, 'medication overuse headache': 1, 'glycosylated haemoglobin decreased': 1, 'female sexual dysfunction': 1, 'glomerulonephritis membranous': 1, 'infusion site thrombosis': 1, 'immunoglobulins abnormal': 1, 'coagulopathy': 3, 'procedure aborted': 1, 'injection site induration': 2, 'pharyngeal inflammation': 1, 'bladder cancer stage i': 1, 'with cancer in situ': 2, 'macule': 1, 'cervical spinal stenosis': 1, 'bile duct cancer stage iv': 1, 'diverticulum intestinal': 1, 'perirectal abscess': 1, 'vessel puncture site thrombosis': 1, 'radiotherapy': 1, 'limb traumatic amputation': 1, 'blood product transfusion dependent': 1, 'bartter^s syndrome': 2, 'tachyarrhythmia': 1, 'poor peripheral circulation': 1, 'pik3ca-activated mutation': 2, 'injection site movement impairment': 1, 'retinal degeneration': 2, 'drug screen false positive': 1, 'vessel puncture site pain': 1, 'fracture pain': 1, 'phobia': 2, 'blood acid phosphatase increased': 1, 'hepatitis e': 1, 'metastases to pleura': 1, 'metastases to breast': 1, 'bone lesion': 1, 'benign abdominal neoplasm': 1, 'haematotoxicity': 2, 'enterococcal infection': 1, 'coronary artery disease': 1, 'b-cell lymphoma': 6, 'non-hodgkin^s lymphoma': 2, 'pulmonary artery occlusion': 1, 'animal bite': 1, 'troponin t increased': 2, 'prohormone brain natriuretic peptide increased': 1, 'incorrect drug administration rate': 1, 'intestinal polyp': 1, 'sudden unexplained death in epilepsy': 2, 'glomerulonephritis membranoproliferative': 1, 'glomerulosclerosis': 1, 'renal tubular atrophy': 1, 'renal arteriosclerosis': 1, 'nephrotic syndrome': 2, 't-cell type acute leukaemia': 1, 'heart valve replacement': 1, 'ovarian cancer': 1, 'bundle branch block left': 1, 'kyphosis': 1, 'rectal prolapse': 1, 'venous pressure jugular increased': 1, 'peripheral sensory neuropathy': 3, 'invasive breast carcinoma': 1, 'infected seroma': 1, 'breast inflammation': 1, 'dandruff': 1, 'application site hypersensitivity': 2, 'splenomegaly': 2, 'gallbladder enlargement': 1, 'solar lentigo': 1, 'laryngospasm': 1, 'pre-eclampsia': 3, 'gastric ulcer': 3, 'thyroid therapy': 1, 'intestinal infarction': 1, 'transient acantholytic dermatosis': 1, 'exfoliative rash': 1, 'cardiothoracic ratio increased': 1, 'rhegmatogenous retinal detachment': 1, 'tongue carcinoma stage i': 1, 'product contamination chemical': 1, 'alcoholism': 4, 'urinary tract infection pseudomonal': 1, 'geotrichum infection': 1, 'hepatic embolisation': 1, 'hearing aid user': 1, 'oral mucosal blistering': 2, 'infarction': 2, 'febrile bone marrow aplasia': 1, 'cryoglobulinaemia': 1, 'hypersensitivity pneumonitis': 2, 'bone callus excessive': 1, 'gastric banding': 1, 'red blood cell count abnormal': 1, 'neutrophil count abnormal': 1, 'retracted nipple': 1, 'orchitis': 1, 'colitis microscopic': 2, 'alveolitis': 1, 'cd4/cd8 ratio increased': 1, 'oesophageal candidiasis': 2, 'cervical dysplasia': 1, 'respiratory fatigue': 1, 'tongue biting': 1, 'pelvic fluid collection': 1, 'methaemoglobinaemia': 1, 'hormone level abnormal': 2, 'breast operation': 1, 'polyglandular autoimmune syndrome type ii': 1, 'basedow^s disease': 3, 'conjunctival pallor': 1, 'fibromuscular dysplasia': 1, 'glaucoma drainage device placement': 1, 'metastases to bone marrow': 1, 'miosis': 2, 'corneal oedema': 1, 'breast discomfort': 1, 'ear disorder': 1, 'stem cell transplant': 1, 'incisional hernia': 1, 'sigmoidectomy': 1, 'abdominal tenderness': 1, 'tachypnoea': 2, 'oesophageal atresia': 1, 'application site haematoma': 1, 'wheelchair user': 1, 'implant site fibrosis': 1, 'implant site pain': 3, 'implant site bruising': 1, 'thyroid hormones decreased': 1, 'oral infection': 2, 'spinal cord compression': 1, 'catheter site infection': 1, 'eye colour change': 1, 'carditis': 1, 'post-acute covid-19 syndrome': 1, 'vaginal discharge': 1, 'left ventricular failure': 2, 'ileus paralytic': 1, 'vitreoretinal traction syndrome': 1, 'conjunctivitis bacterial': 1, 'brain operation': 1, 'heat stroke': 1, 'pancreatic cyst': 1, 'ocular neoplasm': 1, 'depression suicidal': 1, 'dermatitis contact': 2, 'magnetic resonance imaging head abnormal': 1, 'product physical consistency issue': 2, 'magnetic resonance imaging': 1, 'wisdom teeth removal': 1, 'aortic thrombosis': 1, 'vital functions abnormal': 1, 'injection site macule': 1, 'postoperative delirium': 1, 'rectal cancer': 1, 'pulmonary radiation injury': 1, 'small intestine carcinoma stage iii': 1, 'leishmaniasis': 1, 'thrombotic thrombocytopenic purpura': 2, 'paraneoplastic syndrome': 1, 'hypercreatininaemia': 1, 'oral mucosal exfoliation': 1, 'medullary thyroid cancer': 1, 'blood cholesterol abnormal': 2, 'hypoglycaemic seizure': 1, 'blood testosterone decreased': 1, 'body temperature fluctuation': 2, 'amino acid level increased': 1, 'age-related macular degeneration': 1, 'cardiac pacemaker insertion': 1, 'traumatic haemorrhage': 1, 'mallory-weiss syndrome': 1, 'intentional product misuse to child': 1, 'muscle mass': 2, 'ovarian cancer stage i': 1, 'lung carcinoma cell type unspecified stage 0': 2, 'alcohol problem': 1, 'patella fracture': 3, 'gastric cancer stage 0': 2, 'lymphocytic lymphoma': 1, 'paranoia': 3, 'vulvovaginal mycotic infection': 1, 'retinal haemorrhage': 1, 'cerebral haematoma': 1, 'tryptase increased': 1, 'instillation site irritation': 1, 'accident at home': 1, 'withdrawal hypertension': 1, 'product odour abnormal': 3, 'oesophagitis': 2, 'infusion site bruising': 2, 'dermatitis bullous': 3, 'sars-cov-2 antibody test': 1, 'infection susceptibility increased': 1, 'affect lability': 1, 'small intestine carcinoma stage i': 1, 'keratopathy': 4, 'medical procedure': 2, 'eyeglasses therapy': 1, 'application site warmth': 1, 'application site ulcer': 1, 'cervix haemorrhage uterine': 1, 'infantile vomiting': 1, 'exercise tolerance decreased': 4, 'nasal septum deviation': 2, 'pathological fracture': 1, 'cerebral atrophy': 1, 'suspected product quality issue': 1, 'administration site pain': 2, 'administration site reaction': 1, 'generalised oedema': 2, 'intestinal pseudo-obstruction': 1, 'stoma site irritation': 1, 'pulmonary haemorrhage': 3, 'chronic respiratory failure': 1, 'maternal exposure before pregnancy': 2, 'skin atrophy': 1, 'skin odour abnormal': 1, 'immune-mediated hepatic disorder': 3, 'hallucinations': 1, 'mixed': 1, 'thymoma malignant': 1, 'infantile haemangioma': 1, 'colorectal carcinoma stage 0': 1, 'contraindicated device used': 1, 'medical device monitoring error': 1, 'hair growth rate abnormal': 1, 'invasive lobular breast carcinoma': 1, 'eyelid margin crusting': 1, 'amphetamines positive': 1, 'lymphatic fistula': 1, 'beta haemolytic streptococcal infection': 1, 'duodenitis': 1, 'chronic gastritis': 1, 'tonsillitis': 1, 'deformity': 6, 'diffuse large b-cell lymphoma stage iv': 1, 'immune-mediated lung disease': 1, 'immune-mediated adrenal insufficiency': 1, 'drug delivery system malfunction': 2, 'limb reconstructive surgery': 1, 'thyroid cancer stage 0': 1, 'insulin resistance': 1, 'heparin-induced thrombocytopenia': 2, 'apathy': 1, 'small intestine carcinoma': 3, 'small intestine carcinoma stage ii': 2, 'neutropenic sepsis': 1, 'non-alcoholic fatty liver': 1, 'endometrial hyperplasia': 1, 'partial seizures': 1, 'angiogram': 1, 'gastrostomy tube site complication': 1, 'hyperprolactinaemia': 2, 'mastitis': 1, 'pityriasis rubra pilaris': 1, 'intercepted product administration error': 3, 'urine ketone body present': 1, 'polycythaemia': 1, 'respiratory alkalosis': 3, 'penile erythema': 1, 'penile oedema': 1, 'suicidal behaviour': 1, 'appendix disorder': 1, 'polychromasia': 1, 'erythropenia': 1, 'amniotic fluid volume decreased': 1, 'lung carcinoma cell type unspecified stage i': 1, 'inadequate analgesia': 1, 'gastric cancer stage ii': 3, 'appendicitis': 2, 'vascular occlusion': 3, 'cerebral thrombosis': 1, 'therapeutic response changed': 1, 'rebound psoriasis': 1, 'drug clearance decreased': 1, 'acute haemorrhagic ulcerative colitis': 1, 'underweight': 1, 'cerebral ischaemia': 2, 'haemofiltration': 2, 'urine protein/creatinine ratio abnormal': 1, 'creatinine urine abnormal': 1, 'urinary casts present': 1, 'therapeutic product ineffective': 2, 'infusion site rash': 1, 'protein total increased': 1, 'menstruation delayed': 3, 'injection site atrophy': 2, 'cerebral venous sinus thrombosis': 1, 'embolic stroke': 2, 'oxygen consumption increased': 1, 'urine protein/creatinine ratio increased': 1, 'deep brain stimulation': 2, 'antipsychotic drug level increased': 1, 'encephalitis autoimmune': 1, 'electroencephalogram abnormal': 1, 'gastrointestinal ischaemia': 1, 'neuroendocrine carcinoma': 1, 'norovirus test positive': 1, 'hormone-refractory prostate cancer': 1, 'intracranial aneurysm': 1, 'hyperlipidaemia': 1, 'pseudohyponatraemia': 1, 'xanthoma': 2, 'accident at work': 1, 'wrong strength': 1, 'intercepted product selection error': 1, 'richter^s syndrome': 1, 'lung carcinoma cell type unspecified stage iii': 3, 'muscle strength abnormal': 1, 'periorbital pain': 1, 'cutaneous calcification': 1, 'atrial thrombosis': 1, 'night blindness': 2, 'keratitis': 2, 'breast injury': 1, 'tooth demineralisation': 1, 'endodontic procedure': 1, 'palmar erythema': 1, 'sinus operation': 1, 'sciatic nerve injury': 1, 'panic disorder': 1, 'anal cancer recurrent': 1, 'developmental delay': 1, 'paraesthesia ear': 1, 'swelling of eyelid': 1, 'coagulation factor ix level decreased': 1, 'female reproductive tract disorder': 1, 'tongue geographic': 1, 'viraemia': 1, 'retrograde ejaculation': 2, 'dysbiosis': 1, 'immune-mediated myositis': 2, 'empyema': 1, 'implant site pruritus': 1, 'implant site erythema': 1, 'medical device site discomfort': 1, 'brief resolved unexplained event': 1, 'bile duct stenosis': 1, 'haemarthrosis': 2, 'atypical mycobacterium test positive': 1, 'granulocyte count decreased': 1, 'abscess intestinal': 1, 'otorrhoea': 1, 'cerebral hypoperfusion': 1, 'dermoid cyst': 1, 'immunisation reaction': 2, 'vaccination site rash': 1, 'vaccination site erythema': 1, 'carbohydrate antigen 125 increased': 1, 'abnormal uterine bleeding': 1, 'emergency care': 2, 'joint arthroplasty': 1, 'periorbital oedema': 1, 'uterine perforation': 2, 'serum ferritin increased': 1, 'corneal dystrophy': 1, 'ocular toxicity': 1, 'gastroenteritis norovirus': 1, 'therapeutic drug monitoring analysis not performed': 1, 'blood oestrogen increased': 1, 'abortion threatened': 1, 'abdominal symptom': 1, 'eastern cooperative oncology group performance status worsened': 1, 'autoimmune haemolytic anaemia': 1, 'abdominal wall disorder': 1, 'stoma site infection': 1, 'cardiac perforation': 1, 'positron emission tomogram abnormal': 1, 'procedural failure': 1, 'breast neoplasm': 1, 'injection site deformation': 1, 'peritonitis bacterial': 1, 'american trypanosomiasis': 1, 'anuria': 1, 'herpes zoster reactivation': 1, 'abulia': 1, 'embolism venous': 1, 'humerus fracture': 1, 'prothrombin time prolonged': 2, 'uterine hypotonus': 1, 'prolonged pregnancy': 1, 'nodal arrhythmia': 1, 'hypomenorrhoea': 1, 'drug toxicity': 1, 'barrett^s oesophagus': 1, 'malignant palate neoplasm': 1, 'cystic fibrosis': 1, 'restrictive cardiomyopathy': 1, 'oral lichen planus': 1, 'hodgkin^s disease': 1, 'withdrawal bleed': 1, 'skin abrasion': 1, 'gaucher^s disease type iii': 1, 'enteritis infectious': 1, 'product container seal issue': 1, 'feeling of despair': 1, 'sarcoidosis': 1, 'pneumonia necrotising': 1, 'cervix disorder': 1, 'tongue disorder': 1, 'osteonecrosis of external auditory canal': 1, 'venous thrombosis limb': 1, 'axillary vein thrombosis': 1, 'peripheral venous disease': 1, 'pulmonary function test decreased': 1, 'uterine infection': 1, 'craniopharyngioma': 1, 'platelet count': 1, 'myocardial ischaemia': 1, 'weight loss poor': 1, 'eyelid disorder': 1, 'exposure via direct contact': 1, 'respiratory tract oedema': 1, 'hypercoagulation': 1, 'thrombosis in device': 1, 'adrenal disorder': 1, 'haemorrhagic cyst': 1, 'metastases to meninges': 1, 'bronchial injury': 1, 'ligament pain': 1, 'chondropathy': 1, 'anaemia macrocytic': 1, 'anaemia megaloblastic': 1, 'product after taste': 2, 'dark circles under eyes': 1, 'plasma cell myeloma refractory': 1, 'iron deficiency': 1, 'blood immunoglobulin g decreased': 1, 'spontaneous haemorrhage': 1, 'desmoid tumour': 1, 'vacterl syndrome': 1, 'tooth discolouration': 3, 'screaming': 1, 'catatonia': 1, 'papilloma viral infection': 1, 'chronic myelomonocytic leukaemia': 1, 'white matter lesion': 1, 'eye movement disorder': 1, 'rheumatoid factor increased': 1, 'marital problem': 1, 'cardiac fibrillation': 1, 'pharyngitis': 3, 'lymphadenitis': 1, 'breast mass': 2, 'ear operation': 1, 'oesophageal operation': 1, 'gastric operation': 1, 'fibrosis': 1, 'abscess sterile': 1, 'rhinovirus infection': 2, 'hair growth abnormal': 1, 'onycholysis': 1, 'tumour pain': 1, 'precancerous skin lesion': 1, 'myelofibrosis': 1, 'alkalosis': 1, 'ischaemia': 1, 'tongue pigmentation': 1, 'blood lactic acid increased': 1, 'drug-disease interaction': 1, 'uterine dilation and curettage': 1, 'euglycaemic diabetic ketoacidosis': 3, 'congenital anomaly': 1, 'congenital cardiovascular anomaly': 1, 'initial insomnia': 1, 'breast induration': 1, 'blood prolactin increased': 1, 'skin neoplasm bleeding': 1, 'bed rest': 1, 'infective thrombosis': 1, 'haemorrhagic stroke': 1, 'mesenteric vascular occlusion': 1, 'terminal insomnia': 1, 'faeces pale': 1, 'self-medication': 1, 'drug withdrawal convulsions': 1, 'metabolic syndrome': 1, 'hepatitis b': 3, 'lymphoproliferative disorder': 1, 'epstein barr virus positive mucocutaneous ulcer': 1, 'application site exfoliation': 2, 'application site erythema': 3, 'alcohol interaction': 1, 'bacillus infection': 1, 'intestinal angioedema': 1, 'post procedural discomfort': 1, 'lung neoplasm': 1, 'purpura': 1, 'cutaneous symptom': 1, 'weight bearing difficulty': 1, 'hereditary ataxia': 1, 'vestibular neuronitis': 1, 'cholecystitis acute': 1, 'acquired immunodeficiency syndrome': 1, 'tracheal inflammation': 1, 'gastrointestinal ulcer': 1, 'neuropsychiatric symptoms': 1, 'sopor': 1, 'clonus': 1, 'failure to suspend medication': 1, 'tooth erosion': 1, 'thalamus haemorrhage': 1, 'ovarian cancer stage ii': 1, 'tooth pulp haemorrhage': 1, 'prostatic specific antigen abnormal': 1, 'injection site paraesthesia': 1, 'phaeochromocytoma': 1, 'mydriasis': 1, 'bilirubin conjugated increased': 1, 'discoloured vomit': 1, 'gastrointestinal perforation': 1, 'psychiatric decompensation': 1, 'pyroglutamic acidosis': 1, 'spinal cord haemorrhage': 1, 'concomitant disease aggravated': 1, 'medication residue': 1, 'haematotympanum': 1, 'lumbar radiculopathy': 1, 'delayed sleep phase': 1, 'skin wrinkling': 1, 'low cardiac output syndrome': 1, 'hypergammaglobulinaemia': 1, 'osteomyelitis fungal': 1, 'laryngeal cancer stage ii': 1, 'cytomegalovirus viraemia': 2, 'breast abscess': 1, 'jugular vein distension': 1, 'heart sounds abnormal': 1, 'cardiac murmur': 1, 'oral administration complication': 1, 'burkitt^s lymphoma': 1, 'product advertising issue': 1, 'implant site injury': 1, 'nasal cavity cancer': 1, 'malignant peritoneal neoplasm': 1, 'packaging design issue': 1, 'product package associated injury': 1, 'bone cancer metastatic': 1, 'vitiligo': 1, 'lipase increased': 2, 'skin hypopigmentation': 1, 'pleural thickening': 1, 'abnormal weight gain': 1, 'mediastinal disorder': 1, 'labelled drug-disease interaction medication error': 1, 'scan gallium abnormal': 1, 'spinal cord operation': 1, 'peripheral nerve operation': 1, 'ulna fracture': 1, 'attention deficit hyperactivity disorder': 1, 'testicular abscess': 1, 'urinary tract inflammation': 1, 'peritoneal dialysis complication': 1, 'inadequate peritoneal dialysis': 1, 'nephritis allergic': 1, 'prostatic adenoma': 1, 'blood blister': 1, 'glomerulonephritis minimal lesion': 1, 'blood immunoglobulin e increased': 1, 'nasal inflammation': 1, 'brain natriuretic peptide abnormal': 1, 'sodium retention': 1, 'multiple congenital abnormalities': 1, 'osmotic demyelination syndrome': 1, 'renal tubular acidosis': 1, 'gingival swelling': 1, 'premature rupture of membranes': 1, 'catheter site thrombosis': 1, 'bronchoscopy': 1, 'abnormal sensation in eye': 1, 'intracardiac thrombus': 1, 'occupational exposure to dust': 1, 'cardiac dysfunction': 1, 'cardiac failure chronic': 1, 'myeloid leukaemia': 1, 'spontaneous penile erection': 1, 'anal stenosis': 1, 'lipohypertrophy': 1, 'haemolytic anaemia': 1, 'haptoglobin decreased': 1, 'erythrodermic psoriasis': 1, 'infective spondylitis': 1, 'lumbar vertebral fracture': 1, 'bladder cancer stage 0': 1, 'cd19 antigen loss': 1, 'cd19 lymphocyte count abnormal': 1, 'blood urea decreased': 1, 'blood creatine decreased': 1, 'n-terminal prohormone brain natriuretic peptide increased': 1, 'mean cell volume increased': 1, 'mean cell haemoglobin increased': 1, 'laryngeal cancer': 1, 'primary hypoparathyroidism': 1, 'rectal abscess': 1, 'soft tissue swelling': 1, 'educational problem': 1, 'nail ridging': 1, 'contrast media reaction': 1, 'apallic syndrome': 1, 'cystoscopy': 1, 'acute coronary syndrome': 1, 'incorrect product dosage form administered': 1, 'finger amputation': 1, 'joint noise': 1, 'dengue fever': 1, 'seborrhoea': 1, 'dysmenorrhoea': 1, 'abscess sweat gland': 1, 'hypopnoea': 1, 'adrenal haematoma': 1, 'left atrial volume increased': 1, 'ventricular remodelling': 1, 'cheilitis': 1, 'ocular melanoma': 1, 'hepatitis toxic': 1, 'semen volume decreased': 1, 'lactose intolerance': 1, 'oesophageal disorder': 1, 'diarrhoea infectious': 1, 'dermatosis': 1, 'coagulation time prolonged': 1, 'dissociation': 1, 'hypophosphataemia': 1, 'breath odour': 1}\n"
     ]
    }
   ],
   "source": [
    "print(reaction)"
   ]
  },
  {
   "cell_type": "code",
   "execution_count": 19,
   "metadata": {},
   "outputs": [],
   "source": [
    "reactionList = {}\n",
    "i = 1\n",
    "unw = ['device issue','incorrect dose administered','wrong technique in product usage process','prostate cancer','off label use',\n",
    "       'product dose omission issue','death','covid-19','therapy interrupted','inappropriate schedule of product administration',\n",
    "      'fall']\n",
    "for (k,v) in reaction.items():\n",
    "    if(v>=120 and k not in unw):\n",
    "        reactionList[k] = i\n",
    "        i+=1\n",
    "reactionList[\"others\"] = i"
   ]
  },
  {
   "cell_type": "code",
   "execution_count": 21,
   "metadata": {},
   "outputs": [],
   "source": [
    "drug = dict()\n",
    "for med in new_df['activesubstancename']:\n",
    "    for m in str(med).split(\" \"):\n",
    "        if drug.get(m.lower()):\n",
    "            drug[m.lower()]+=1\n",
    "        else:\n",
    "            drug[m.lower()]=1"
   ]
  },
  {
   "cell_type": "code",
   "execution_count": 22,
   "metadata": {},
   "outputs": [],
   "source": [
    "drugList = {}\n",
    "i = 1\n",
    "\n",
    "for (k,v) in drug.items():\n",
    "    if(v>=120):\n",
    "        drugList[k] = i \n",
    "        i+=1\n",
    "drugList[\"others\"] = i"
   ]
  },
  {
   "cell_type": "code",
   "execution_count": 23,
   "metadata": {},
   "outputs": [
    {
     "name": "stdout",
     "output_type": "stream",
     "text": [
      "{'adalimumab': 1, 'secukinumab': 2, 'ranitidine': 3, 'hydrochloride': 4, 'hydrochloride,': 5, 'sodium': 6, 'acetate': 7, 'sodium,': 8, 'prednisone,': 9, 'acid,': 10, 'certolizumab': 11, 'sulfate,': 12, 'calcium': 13, 'adalimumab,': 14, 'upadacitinib': 15, 'fingolimod': 16, 'pegol': 17, 'insulin': 18, 'glargine': 19, 'levonorgestrel': 20, 'human': 21, 'macitentan': 22, 'apixaban': 23, 'oxycodone': 24, 'palbociclib': 25, 'leuprolide': 26, 'tozinameran': 27, 'letrozole,': 28, 'sacubitril\\\\valsartan': 29, 'others': 30}\n"
     ]
    }
   ],
   "source": [
    "print(drugList)"
   ]
  },
  {
   "cell_type": "code",
   "execution_count": 24,
   "metadata": {},
   "outputs": [
    {
     "name": "stdout",
     "output_type": "stream",
     "text": [
      "{'cough': 1, 'drug ineffective': 2, 'headache': 3, 'decreased appetite': 4, 'pyrexia': 5, 'nausea': 6, 'pain in extremity': 7, 'alopecia': 8, 'fatigue': 9, 'diarrhoea': 10, 'dizziness': 11, 'injection site pain': 12, 'vomiting': 13, 'product use in unapproved indication': 14, 'asthenia': 15, 'rash': 16, 'pain': 17, 'malaise': 18, 'arthralgia': 19, 'hospitalisation': 20, 'condition aggravated': 21, 'pruritus': 22, 'dyspnoea': 23, 'illness': 24, 'pneumonia': 25, 'weight decreased': 26, 'no adverse event': 27, 'others': 28}\n"
     ]
    }
   ],
   "source": [
    "print(reactionList)"
   ]
  },
  {
   "cell_type": "code",
   "execution_count": 25,
   "metadata": {},
   "outputs": [],
   "source": [
    "reactiondict = {key: [0]*len(new_df) for key in reactionList.keys()}\n",
    "for i, effect in enumerate(new_df[\"reactionmeddrapt\"]):\n",
    "    reactions = effect.split(\", \")\n",
    "    found = False\n",
    "    for k in reactions:\n",
    "        if k.lower() in reactionList.keys():\n",
    "            reactiondict[k.lower()][i] = 1\n",
    "            found = True\n",
    "    if not found:\n",
    "        reactiondict[\"others\"][i] = 1"
   ]
  },
  {
   "cell_type": "code",
   "execution_count": 27,
   "metadata": {},
   "outputs": [
    {
     "name": "stdout",
     "output_type": "stream",
     "text": [
      "8053\n"
     ]
    }
   ],
   "source": [
    "print(sum(reactiondict[\"others\"]))"
   ]
  },
  {
   "cell_type": "code",
   "execution_count": 28,
   "metadata": {},
   "outputs": [],
   "source": [
    "drugdict = {key: [0]*len(new_df) for key in drugList.keys()}\n",
    "for i, drug in enumerate(new_df[\"medicinalproduct\"]):\n",
    "    drugs = drug.split(\", \")\n",
    "    found = False\n",
    "    for k in drugs:\n",
    "        if k.lower() in drugList.keys():\n",
    "            drugdict[k.lower()][i] = 1\n",
    "            found = True\n",
    "    if not found:\n",
    "        drugdict[\"others\"][i] = 1"
   ]
  },
  {
   "cell_type": "code",
   "execution_count": 29,
   "metadata": {},
   "outputs": [
    {
     "name": "stdout",
     "output_type": "stream",
     "text": [
      "11731\n"
     ]
    }
   ],
   "source": [
    "print(sum(drugdict[\"others\"]))"
   ]
  },
  {
   "cell_type": "code",
   "execution_count": 30,
   "metadata": {},
   "outputs": [],
   "source": [
    "for k,v in drugdict.items():\n",
    "    new_df[k] = v"
   ]
  },
  {
   "cell_type": "code",
   "execution_count": 32,
   "metadata": {},
   "outputs": [],
   "source": [
    "X = new_df.drop([\"patientonsetage\",\"patientsex\",\"safetyreportid\", \"medicinalproduct\", \"activesubstancename\", \"reactionmeddrapt\"], axis=1)"
   ]
  },
  {
   "cell_type": "code",
   "execution_count": 33,
   "metadata": {},
   "outputs": [
    {
     "data": {
      "text/plain": [
       "(12000, 30)"
      ]
     },
     "execution_count": 33,
     "metadata": {},
     "output_type": "execute_result"
    }
   ],
   "source": [
    "X.shape"
   ]
  },
  {
   "cell_type": "code",
   "execution_count": 34,
   "metadata": {},
   "outputs": [
    {
     "data": {
      "text/html": [
       "<div>\n",
       "<style scoped>\n",
       "    .dataframe tbody tr th:only-of-type {\n",
       "        vertical-align: middle;\n",
       "    }\n",
       "\n",
       "    .dataframe tbody tr th {\n",
       "        vertical-align: top;\n",
       "    }\n",
       "\n",
       "    .dataframe thead th {\n",
       "        text-align: right;\n",
       "    }\n",
       "</style>\n",
       "<table border=\"1\" class=\"dataframe\">\n",
       "  <thead>\n",
       "    <tr style=\"text-align: right;\">\n",
       "      <th></th>\n",
       "      <th>adalimumab</th>\n",
       "      <th>secukinumab</th>\n",
       "      <th>ranitidine</th>\n",
       "      <th>hydrochloride</th>\n",
       "      <th>hydrochloride,</th>\n",
       "      <th>sodium</th>\n",
       "      <th>acetate</th>\n",
       "      <th>sodium,</th>\n",
       "      <th>prednisone,</th>\n",
       "      <th>acid,</th>\n",
       "      <th>...</th>\n",
       "      <th>human</th>\n",
       "      <th>macitentan</th>\n",
       "      <th>apixaban</th>\n",
       "      <th>oxycodone</th>\n",
       "      <th>palbociclib</th>\n",
       "      <th>leuprolide</th>\n",
       "      <th>tozinameran</th>\n",
       "      <th>letrozole,</th>\n",
       "      <th>sacubitril\\valsartan</th>\n",
       "      <th>others</th>\n",
       "    </tr>\n",
       "  </thead>\n",
       "  <tbody>\n",
       "    <tr>\n",
       "      <th>0</th>\n",
       "      <td>0</td>\n",
       "      <td>0</td>\n",
       "      <td>0</td>\n",
       "      <td>0</td>\n",
       "      <td>0</td>\n",
       "      <td>0</td>\n",
       "      <td>0</td>\n",
       "      <td>0</td>\n",
       "      <td>0</td>\n",
       "      <td>0</td>\n",
       "      <td>...</td>\n",
       "      <td>0</td>\n",
       "      <td>0</td>\n",
       "      <td>0</td>\n",
       "      <td>0</td>\n",
       "      <td>0</td>\n",
       "      <td>0</td>\n",
       "      <td>0</td>\n",
       "      <td>0</td>\n",
       "      <td>0</td>\n",
       "      <td>1</td>\n",
       "    </tr>\n",
       "    <tr>\n",
       "      <th>1</th>\n",
       "      <td>0</td>\n",
       "      <td>0</td>\n",
       "      <td>0</td>\n",
       "      <td>0</td>\n",
       "      <td>0</td>\n",
       "      <td>0</td>\n",
       "      <td>0</td>\n",
       "      <td>0</td>\n",
       "      <td>0</td>\n",
       "      <td>0</td>\n",
       "      <td>...</td>\n",
       "      <td>0</td>\n",
       "      <td>0</td>\n",
       "      <td>0</td>\n",
       "      <td>0</td>\n",
       "      <td>0</td>\n",
       "      <td>0</td>\n",
       "      <td>0</td>\n",
       "      <td>0</td>\n",
       "      <td>0</td>\n",
       "      <td>1</td>\n",
       "    </tr>\n",
       "    <tr>\n",
       "      <th>2</th>\n",
       "      <td>0</td>\n",
       "      <td>0</td>\n",
       "      <td>0</td>\n",
       "      <td>0</td>\n",
       "      <td>0</td>\n",
       "      <td>0</td>\n",
       "      <td>0</td>\n",
       "      <td>0</td>\n",
       "      <td>0</td>\n",
       "      <td>0</td>\n",
       "      <td>...</td>\n",
       "      <td>0</td>\n",
       "      <td>0</td>\n",
       "      <td>0</td>\n",
       "      <td>0</td>\n",
       "      <td>0</td>\n",
       "      <td>0</td>\n",
       "      <td>0</td>\n",
       "      <td>0</td>\n",
       "      <td>0</td>\n",
       "      <td>1</td>\n",
       "    </tr>\n",
       "    <tr>\n",
       "      <th>3</th>\n",
       "      <td>0</td>\n",
       "      <td>0</td>\n",
       "      <td>0</td>\n",
       "      <td>0</td>\n",
       "      <td>0</td>\n",
       "      <td>0</td>\n",
       "      <td>0</td>\n",
       "      <td>0</td>\n",
       "      <td>0</td>\n",
       "      <td>0</td>\n",
       "      <td>...</td>\n",
       "      <td>0</td>\n",
       "      <td>0</td>\n",
       "      <td>0</td>\n",
       "      <td>0</td>\n",
       "      <td>0</td>\n",
       "      <td>0</td>\n",
       "      <td>0</td>\n",
       "      <td>0</td>\n",
       "      <td>0</td>\n",
       "      <td>1</td>\n",
       "    </tr>\n",
       "    <tr>\n",
       "      <th>4</th>\n",
       "      <td>0</td>\n",
       "      <td>0</td>\n",
       "      <td>0</td>\n",
       "      <td>0</td>\n",
       "      <td>0</td>\n",
       "      <td>0</td>\n",
       "      <td>0</td>\n",
       "      <td>0</td>\n",
       "      <td>0</td>\n",
       "      <td>0</td>\n",
       "      <td>...</td>\n",
       "      <td>0</td>\n",
       "      <td>0</td>\n",
       "      <td>0</td>\n",
       "      <td>0</td>\n",
       "      <td>0</td>\n",
       "      <td>0</td>\n",
       "      <td>0</td>\n",
       "      <td>0</td>\n",
       "      <td>0</td>\n",
       "      <td>1</td>\n",
       "    </tr>\n",
       "  </tbody>\n",
       "</table>\n",
       "<p>5 rows × 30 columns</p>\n",
       "</div>"
      ],
      "text/plain": [
       "   adalimumab  secukinumab  ranitidine  hydrochloride  hydrochloride,  sodium   \n",
       "0           0            0           0              0               0       0  \\\n",
       "1           0            0           0              0               0       0   \n",
       "2           0            0           0              0               0       0   \n",
       "3           0            0           0              0               0       0   \n",
       "4           0            0           0              0               0       0   \n",
       "\n",
       "   acetate  sodium,  prednisone,  acid,  ...  human  macitentan  apixaban   \n",
       "0        0        0            0      0  ...      0           0         0  \\\n",
       "1        0        0            0      0  ...      0           0         0   \n",
       "2        0        0            0      0  ...      0           0         0   \n",
       "3        0        0            0      0  ...      0           0         0   \n",
       "4        0        0            0      0  ...      0           0         0   \n",
       "\n",
       "   oxycodone  palbociclib  leuprolide  tozinameran  letrozole,   \n",
       "0          0            0           0            0           0  \\\n",
       "1          0            0           0            0           0   \n",
       "2          0            0           0            0           0   \n",
       "3          0            0           0            0           0   \n",
       "4          0            0           0            0           0   \n",
       "\n",
       "   sacubitril\\valsartan  others  \n",
       "0                     0       1  \n",
       "1                     0       1  \n",
       "2                     0       1  \n",
       "3                     0       1  \n",
       "4                     0       1  \n",
       "\n",
       "[5 rows x 30 columns]"
      ]
     },
     "execution_count": 34,
     "metadata": {},
     "output_type": "execute_result"
    }
   ],
   "source": [
    "X.head()"
   ]
  }
 ],
 "metadata": {
  "kernelspec": {
   "display_name": "Python 3",
   "language": "python",
   "name": "python3"
  },
  "language_info": {
   "codemirror_mode": {
    "name": "ipython",
    "version": 3
   },
   "file_extension": ".py",
   "mimetype": "text/x-python",
   "name": "python",
   "nbconvert_exporter": "python",
   "pygments_lexer": "ipython3",
   "version": "3.9.10"
  },
  "orig_nbformat": 4
 },
 "nbformat": 4,
 "nbformat_minor": 2
}
